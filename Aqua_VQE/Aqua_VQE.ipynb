{
 "cells": [
  {
   "cell_type": "markdown",
   "metadata": {
    "slideshow": {
     "slide_type": "slide"
    }
   },
   "source": [
    "# The Variational Quantum Eigensolver algorithm\n",
    "\n",
    "## Table of content\n",
    "1. [VQE in Qiskit](#qiskit)\n",
    "    1. [General overview](#gen)\n",
    "    2. [Optimizer](#opt)\n",
    "    3. [Variational form or ansatz](#ansatz)\n",
    "    4. [Hamiltonian](#qubitop)\n",
    "    5. [Quantum instance](#inst)\n",
    "2. [Simple example over one qubit](#qubit)\n",
    "3. [The Max-Cut problem](#maxcut)\n",
    "\n"
   ]
  },
  {
   "cell_type": "code",
   "execution_count": 1,
   "metadata": {
    "slideshow": {
     "slide_type": "skip"
    }
   },
   "outputs": [],
   "source": [
    "%matplotlib inline\n",
    "import matplotlib.pyplot as plt\n",
    "import numpy as np\n",
    "import networkx as nx\n",
    "import matplotlib.axes as axes\n",
    "from numpy import cos, sin, pi\n",
    "\n",
    "# Importing standard Qiskit libraries and configuring account\n",
    "from qiskit import QuantumCircuit, execute, Aer, IBMQ, QuantumRegister, ClassicalRegister\n",
    "from qiskit.circuit import Parameter\n",
    "from qiskit.circuit.library import TwoLocal\n",
    "from qiskit.compiler import transpile, assemble\n",
    "from qiskit.tools.jupyter import *\n",
    "from qiskit.visualization import *\n",
    "\n",
    "from qiskit.aqua.algorithms import VQE, NumPyEigensolver\n",
    "from qiskit.aqua.components.optimizers import COBYLA, SPSA, SLSQP, NELDER_MEAD\n",
    "from qiskit.aqua import QuantumInstance\n",
    "from qiskit.aqua.operators.operator_globals import Z\n",
    "from qiskit.providers.aer.noise import NoiseModel\n",
    "from qiskit.ignis.mitigation.measurement import CompleteMeasFitter\n",
    "\n",
    "from qiskit.tools.visualization import plot_histogram\n",
    "\n",
    "from qiskit.optimization.applications.ising import max_cut\n",
    "from qiskit.optimization.applications.ising.common import sample_most_likely\n",
    "from qiskit.circuit.library import TwoLocal, NLocal, RealAmplitudes, EfficientSU2, ExcitationPreserving, ZGate\n",
    "\n",
    "# setup aqua logging\n",
    "import logging\n",
    "from qiskit.aqua import set_qiskit_aqua_logging\n",
    "# set_qiskit_aqua_logging(logging.DEBUG)  # choose INFO, DEBUG to see the log"
   ]
  },
  {
   "cell_type": "code",
   "execution_count": 2,
   "metadata": {
    "slideshow": {
     "slide_type": "skip"
    }
   },
   "outputs": [],
   "source": [
    "# Loading your IBM Q account\n",
    "IBMQ.load_account()\n",
    "provider = IBMQ.get_provider(hub = 'ibm-q', group='open', project = 'main')"
   ]
  },
  {
   "cell_type": "markdown",
   "metadata": {
    "slideshow": {
     "slide_type": "slide"
    }
   },
   "source": [
    "## 1 - VQE in Qiskit <a name = 'qiskit'></a>\n",
    "\n",
    "### 1.1 - General overview <a name = 'gen'></a>\n",
    "\n",
    "The **Variational Quantum Eigensolver** (VQE) is a hybrid algorithm based on the *variational principle of quantum mechanics* that uses a variational technique to find the minimum eigenvalue of the *hamiltonian* $H$ of the studied system.\n",
    "\n",
    "\n",
    "<img src=\"vqetot.png\" width = \"700\"/>\n"
   ]
  },
  {
   "cell_type": "markdown",
   "metadata": {
    "slideshow": {
     "slide_type": "slide"
    }
   },
   "source": [
    "\n",
    "In addition to the studied hamiltonian, an instance of VQE will require two other components: the *ansatz* and the *optimizer*. See later for their specific definition in Qiskit.\n",
    "\n",
    "Then, in order to run the algorithm, a *quantum instance*, or simply a *backend*, will be specified. There are two ways to specify it: either directly in the VQE instance or in the run method when running the instance."
   ]
  },
  {
   "cell_type": "markdown",
   "metadata": {
    "slideshow": {
     "slide_type": "slide"
    }
   },
   "source": [
    "Other components can be passed for the VQE instance:\n",
    "\n",
    "    vqe = VQE(operator=None, var_form=None, optimizer=None,\n",
    "    initial_point=None, expectation=None, max_evals_grouped=1,\n",
    "    aux_operators=None, callback=None, quantum_instance=None)\n",
    "    \n",
    "See details of implementation [here](https://qiskit.org/documentation/stubs/qiskit.aqua.algorithms.VQE.html).\n",
    "\n",
    "> Remark : it is possible to compare the solution from the VQE instance with the exact solution by using this function :   \n",
    "    `from qiskit.aqua.algorithm import NumPyEigensolver`  \n",
    "    `exact = NumPyEigensolver(qubitOp)`  \n",
    "    `result_exact = exact.run()`"
   ]
  },
  {
   "cell_type": "markdown",
   "metadata": {
    "slideshow": {
     "slide_type": "notes"
    }
   },
   "source": [
    "- `operator` (`Union[OperatorBase, LegacyBaseOperator, None]`) – Qubit operator of the Observable\n",
    "\n",
    "- `var_form` (`Union[QuantumCircuit, VariationalForm, None]`) – A parameterized circuit used as Ansatz for the wave function.\n",
    "\n",
    "- `optimizer` (`Optional[Optimizer]`) – A classical optimizer.\n",
    "\n",
    "- `initial_point` (`Optional[ndarray]`) – An optional initial point (i.e. initial parameter values) for the optimizer. If None then VQE will look to the variational form for a preferred point and if not will simply compute a random one.\n",
    "\n",
    "- `expectation` (`Optional[ExpectationBase]`) – The Expectation converter for taking the average value of the Observable over the var_form state function.\n",
    "\n",
    "- `max_evals_grouped` (`int`) – Max number of evaluations performed simultaneously. Signals the given optimizer that more than one set of parameters can be supplied so that potentially the expectation values can be computed in parallel. Typically this is possible when a finite difference gradient is used by the optimizer such that multiple points to compute the gradient can be passed and if computed in parallel improve overall execution time.\n",
    "\n",
    "- `aux_operators` (`Optional[List[Union[OperatorBase, LegacyBaseOperator, None]]]`) – Optional list of auxiliary operators to be evaluated with the eigenstate of the minimum eigenvalue main result and their expectation values returned. For instance in chemistry these can be dipole operators, total particle count operators so we can get values for these at the ground state.\n",
    "\n",
    "- `callback` (`Optional[Callable[[int, ndarray, float, float], None]]`) – a callback that can access the intermediate data during the optimization. Four parameter values are passed to the callback as follows during each evaluation by the optimizer for its current set of parameters as it works towards the minimum. These are: the evaluation count, the optimizer parameters for the variational form, the evaluated mean and the evaluated standard deviation.`\n",
    "\n",
    "- `quantum_instance` (`Union[QuantumInstance, BaseBackend, None]`) – Quantum Instance or Backend\n"
   ]
  },
  {
   "cell_type": "markdown",
   "metadata": {
    "slideshow": {
     "slide_type": "slide"
    }
   },
   "source": [
    "### 1.2 - Optimizer  <a name = 'opt'></a>\n",
    "\n",
    "All the optimizers can be called from `qiskit.aqua.components.optimizers`.   \n",
    "See details [here](https://qiskit.org/documentation/apidoc/qiskit.aqua.components.optimizers.html).\n",
    "\n",
    "- **ADAM** : Adam Kingma, Diederik & Ba, Jimmy. (2014). Adam: A Method for Stochastic Optimization;\n",
    "- **CG** : Conjugate Gradient algorithm;\n",
    "- **COBYLA** : Constrained Optimization By Linear Approximation algorithm;\n",
    "- **L_BFGS_B** : Limited-memory BFGS algorithm;\n",
    "- **NELDER_MEAD** : Nelder-Mead algorithm;\n",
    "- **P_BFGS** : Limited-memory BFGS algorithm. Parallel instantiations;\n",
    "- **POWELL** : Powell algorithm;\n",
    "- **SLSQP** : Sequential Least SQuares Programming algorithm;\n",
    "- **SPSA** : Simultaneous Perturbation Stochastic Approximation algorithm;\n",
    "- **TNC** : Truncated Newton algorithm;\n",
    "- **AQGD** : Analytic Quantum Gradient Descent optimizer class. Performs optimization by gradient descent where gradients are evaluated “analytically” using the quantum circuit evaluating the objective function;\n",
    "- **NFT** : Nakanishi-Fujii-Todo algorithm;\n",
    "- **GSLS** : Gaussian-smoothed Line Search."
   ]
  },
  {
   "cell_type": "markdown",
   "metadata": {
    "slideshow": {
     "slide_type": "slide"
    }
   },
   "source": [
    "See this example for initializing an optimizer:"
   ]
  },
  {
   "cell_type": "code",
   "execution_count": 3,
   "metadata": {
    "slideshow": {
     "slide_type": "fragment"
    }
   },
   "outputs": [],
   "source": [
    "from qiskit.aqua.components.optimizers import COBYLA"
   ]
  },
  {
   "cell_type": "code",
   "execution_count": 4,
   "metadata": {
    "slideshow": {
     "slide_type": "fragment"
    }
   },
   "outputs": [
    {
     "data": {
      "text/plain": [
       "<qiskit.aqua.components.optimizers.cobyla.COBYLA at 0x1d8e12ef700>"
      ]
     },
     "execution_count": 4,
     "metadata": {},
     "output_type": "execute_result"
    }
   ],
   "source": [
    "testOp = COBYLA(maxiter=500)\n",
    "testOp"
   ]
  },
  {
   "cell_type": "markdown",
   "metadata": {
    "slideshow": {
     "slide_type": "slide"
    }
   },
   "source": [
    "### 1.3 - Variational form or ansatz  <a name = 'ansatz'></a>\n",
    "\n",
    "<img src=\"what_moved.png\" width = \"700\"/>\n"
   ]
  },
  {
   "cell_type": "markdown",
   "metadata": {
    "slideshow": {
     "slide_type": "slide"
    }
   },
   "source": [
    "There are three ways to create the ansatz for the VQE instance :  \n",
    "- by using classes of parameterized circuits already implemented in Qiskit (the *N-Local circuits* in `qiskit.circuit.library`). See [here](https://qiskit.org/documentation/apidoc/circuit_library.html#n-local-circuits) for all the details about each class.\n",
    "- by creating a parameterized circuit. See [here](https://qiskit.org/documentation/tutorials/circuits_advanced/1_advanced_circuits.html) for how to create a parameterized circuit. Being able to use it for such algorithms is new in the latest version of Aqua, and is easier than before if one wants to create an ansatz.\n",
    "- by doing both! Instances of the implemented classes are circuits, therefore any gate can be added to it.\n",
    "\n",
    "**Example for the existing classes :**"
   ]
  },
  {
   "cell_type": "code",
   "execution_count": 5,
   "metadata": {
    "scrolled": true,
    "slideshow": {
     "slide_type": "fragment"
    }
   },
   "outputs": [
    {
     "data": {
      "image/png": "[encoded data removed]",
      "text/plain": [
       "<Figure size 960.792x204.68 with 1 Axes>"
      ]
     },
     "execution_count": 5,
     "metadata": {},
     "output_type": "execute_result"
    }
   ],
   "source": [
    "from qiskit.circuit.library import TwoLocal\n",
    "rotation_blocks = ['ry']\n",
    "entanglement_blocks = ['cx']\n",
    "testAnsatz = TwoLocal(3, rotation_blocks, entanglement_blocks, 'full')\n",
    "testAnsatz.draw(output='mpl')"
   ]
  },
  {
   "cell_type": "markdown",
   "metadata": {
    "slideshow": {
     "slide_type": "slide"
    }
   },
   "source": [
    "**Example with a personalized circuit :**"
   ]
  },
  {
   "cell_type": "code",
   "execution_count": 6,
   "metadata": {
    "slideshow": {
     "slide_type": "fragment"
    }
   },
   "outputs": [],
   "source": [
    "from qiskit.circuit import Parameter\n",
    "theta = Parameter('θ')"
   ]
  },
  {
   "cell_type": "code",
   "execution_count": 7,
   "metadata": {
    "slideshow": {
     "slide_type": "fragment"
    }
   },
   "outputs": [
    {
     "data": {
      "image/png": "[encoded data removed]",
      "text/plain": [
       "<Figure size 780.192x264.88 with 1 Axes>"
      ]
     },
     "execution_count": 7,
     "metadata": {},
     "output_type": "execute_result"
    }
   ],
   "source": [
    "n = 3\n",
    "qc = QuantumCircuit(n,1)\n",
    "qc.h(0)\n",
    "for i in range(n-1):\n",
    "    qc.cx(i,i+1)\n",
    "qc.barrier()\n",
    "qc.rz(theta, range(n))\n",
    "qc.barrier()\n",
    "for i in reversed(range(n-1)):\n",
    "    qc.cx(i, i+1)\n",
    "qc.h(0)\n",
    "qc.measure(0, 0)\n",
    "qc.draw('mpl')"
   ]
  },
  {
   "cell_type": "markdown",
   "metadata": {
    "slideshow": {
     "slide_type": "slide"
    }
   },
   "source": [
    "### 1.4 - Hamiltonian  <a name = 'qubitop'></a>\n",
    "\n",
    "The hamiltonian, describing the problem, can be either created or is already implemented in Qiskit for several optimization problems. See [here](https://qiskit.org/documentation/apidoc/qiskit.optimization.applications.ising.html) for all ising models of optimization problems already implemented.  \n",
    "For those already implemented, one can access the hamiltonian with the function `get_operator()`, returning the operator for the hamiltonian and a constant shift. \n",
    "\n",
    "Many things can be done with the `Operator` class, see [this tutorial](https://qiskit.org/documentation/tutorials/circuits_advanced/2_operators_overview.html) for explanation on how to create and manipulate such operators."
   ]
  },
  {
   "cell_type": "markdown",
   "metadata": {
    "slideshow": {
     "slide_type": "fragment"
    }
   },
   "source": [
    "### 1.5 - Quantum instance  <a name = 'inst'></a>\n",
    "\n",
    "A quantum instance allows to specify a backend and add configuration for the transpilation and the execution, such as the basis gates, the coupling map, backend options, noise model and many other options. See [here](https://qiskit.org/documentation/stubs/qiskit.aqua.QuantumInstance.html) for more details."
   ]
  },
  {
   "cell_type": "markdown",
   "metadata": {
    "slideshow": {
     "slide_type": "slide"
    }
   },
   "source": [
    "## 2 - Simple example over one qubit <a name = 'qubit'></a>"
   ]
  },
  {
   "cell_type": "markdown",
   "metadata": {
    "slideshow": {
     "slide_type": "fragment"
    }
   },
   "source": [
    "#### Definition of the problem\n",
    "- Ansatz : the operator $R_y$:\n",
    "    $$ R_y(\\theta) = \\begin{pmatrix} \\cos(\\theta/2) & -\\sin(\\theta/2) \\\\  \\sin(\\theta/2) & \\cos(\\theta/2) \\end{pmatrix}$$\n",
    "- Hamiltonian : the Pauli gate $Z$:\n",
    "    $$ Z = \\begin{pmatrix} 1 & 0 \\\\ 0 & -1 \\end{pmatrix} $$\n",
    "    This matrix has the eigenvalues $\\{-1, +1\\}$ respectively associated with the eigenvectors $\\left\\{ \\begin{pmatrix} 0 \\\\ 1 \\end{pmatrix}, \\begin{pmatrix} 1 \\\\ 0 \\end{pmatrix} \\right\\}$\n",
    "- Optimizer : whatever we want in the Qiskit implementation.\n",
    "\n",
    "\n"
   ]
  },
  {
   "cell_type": "markdown",
   "metadata": {
    "slideshow": {
     "slide_type": "slide"
    }
   },
   "source": [
    "#### Setting of all the entries required for VQE\n"
   ]
  },
  {
   "cell_type": "markdown",
   "metadata": {
    "slideshow": {
     "slide_type": "fragment"
    }
   },
   "source": [
    "##### Optimizer\n"
   ]
  },
  {
   "cell_type": "code",
   "execution_count": 8,
   "metadata": {
    "slideshow": {
     "slide_type": "fragment"
    }
   },
   "outputs": [],
   "source": [
    "optimizer = COBYLA(maxiter=500, tol=0.0001)"
   ]
  },
  {
   "cell_type": "markdown",
   "metadata": {
    "slideshow": {
     "slide_type": "fragment"
    }
   },
   "source": [
    "##### The hamiltonian, `qubitOp`\n",
    "Here, we want to have the Pauli gate $Z = \\begin{pmatrix} 1 & 0 \\\\ 0 & -1 \\end{pmatrix} $."
   ]
  },
  {
   "cell_type": "code",
   "execution_count": 9,
   "metadata": {
    "slideshow": {
     "slide_type": "fragment"
    }
   },
   "outputs": [
    {
     "data": {
      "text/plain": [
       "PauliOp(Pauli(z=[True], x=[False]), coeff=1.0)"
      ]
     },
     "execution_count": 9,
     "metadata": {},
     "output_type": "execute_result"
    }
   ],
   "source": [
    "qubitOp = Z\n",
    "qubitOp"
   ]
  },
  {
   "cell_type": "markdown",
   "metadata": {
    "slideshow": {
     "slide_type": "slide"
    }
   },
   "source": [
    "##### Variational form"
   ]
  },
  {
   "cell_type": "code",
   "execution_count": 10,
   "metadata": {
    "slideshow": {
     "slide_type": "fragment"
    }
   },
   "outputs": [
    {
     "name": "stdout",
     "output_type": "stream",
     "text": [
      "     ┌──────────┐ ░ \n",
      "q_0: ┤ RY(θ[0]) ├─░─\n",
      "     └──────────┘ ░ \n"
     ]
    }
   ],
   "source": [
    "#Using one of the classes of Qiskit\n",
    "var_form = TwoLocal(1,'ry',reps=1,insert_barriers=True, skip_final_rotation_layer=True)\n",
    "print(var_form)"
   ]
  },
  {
   "cell_type": "code",
   "execution_count": 11,
   "metadata": {
    "slideshow": {
     "slide_type": "fragment"
    }
   },
   "outputs": [
    {
     "name": "stdout",
     "output_type": "stream",
     "text": [
      "     ┌───────┐ ░ \n",
      "q_0: ┤ RY(θ) ├─░─\n",
      "     └───────┘ ░ \n"
     ]
    }
   ],
   "source": [
    "#Creating a parameterized circuit\n",
    "theta = Parameter('θ')\n",
    "var_test = QuantumCircuit(1)\n",
    "var_test.ry(theta,0)\n",
    "var_test.barrier()\n",
    "print(var_test)"
   ]
  },
  {
   "cell_type": "markdown",
   "metadata": {
    "slideshow": {
     "slide_type": "slide"
    }
   },
   "source": [
    "#### The VQE instance"
   ]
  },
  {
   "cell_type": "code",
   "execution_count": 12,
   "metadata": {
    "slideshow": {
     "slide_type": "fragment"
    }
   },
   "outputs": [],
   "source": [
    "seed = 10598\n",
    "\n",
    "backend = Aer.get_backend('statevector_simulator')\n",
    "\n",
    "quantum_instance = QuantumInstance(backend, seed_simulator=seed, seed_transpiler=seed)"
   ]
  },
  {
   "cell_type": "code",
   "execution_count": 13,
   "metadata": {
    "slideshow": {
     "slide_type": "slide"
    }
   },
   "outputs": [
    {
     "name": "stdout",
     "output_type": "stream",
     "text": [
      "VQE with the ansatz TwoLocal\n",
      " {'optimal_parameters': {Parameter(θ[0]): 3.1415036930460167}, 'optimal_point': array([3.14150369]), 'optimal_value': -0.99999999604301, 'optimizer_evals': 24, 'optimizer_time': 0.05338335037231445, 'eigenvalue': (-0.99999999604301+0j), 'eigenstate': array([4.44802719e-05+0.j, 9.99999999e-01+0.j]), 'cost_function_evals': 24}\n",
      "\n",
      "VQE with the parameterized ansatz\n",
      " {'optimal_parameters': {Parameter(θ): 3.1415424402120986}, 'optimal_point': array([3.14154244]), 'optimal_value': -0.99999999873931, 'optimizer_evals': 23, 'optimizer_time': 0.07811212539672852, 'eigenvalue': (-0.99999999873931+0j), 'eigenstate': array([2.51066888e-05+0.j, 1.00000000e+00+0.j]), 'cost_function_evals': 23}\n",
      "\n",
      "Exact eigensolver\n",
      " {'eigenvalues': array([-1.+0.j]), 'eigenstates': ListOp([VectorStateFn(Statevector([0.+0.j, 1.+0.j],\n",
      "            dims=(2,)), coeff=1.0, is_measurement=False)], coeff=1.0, abelian=False)}\n"
     ]
    }
   ],
   "source": [
    "vqe = VQE(qubitOp, var_test, optimizer)\n",
    "vqe2 = VQE(qubitOp, var_form, optimizer)\n",
    "vqe_run = vqe.run(quantum_instance)\n",
    "vqe2_run = vqe2.run(quantum_instance)\n",
    "\n",
    "exact = NumPyEigensolver(qubitOp)\n",
    "exact_run = exact.run()\n",
    "\n",
    "print('VQE with the ansatz TwoLocal\\n',vqe2_run)\n",
    "print('\\nVQE with the parameterized ansatz\\n',vqe_run)\n",
    "print('\\nExact eigensolver\\n',exact_run)"
   ]
  },
  {
   "cell_type": "markdown",
   "metadata": {
    "slideshow": {
     "slide_type": "slide"
    }
   },
   "source": [
    "## 3 - The Max-Cut problem <a name = 'maxcut'></a>\n",
    "### 3.1 - Introduction<a name = 'intro'></a>\n",
    "\n",
    "Max-Cut is a well-known NP-complete optimization problem. Besides its theoretical importance, Max-Cut has applications in circuit layout design and statistical physics.\n",
    "\n",
    "We formally define the Max-Cut problem as the following:  \n",
    "We have a undirected graph $G = (V,E)$ with $|V| = n$ nodes, and each edge $ij \\in E$ has a weight $w_{i,j} = w_{j,i} >0$. Weights over vertices $w_i$ can also be added.\n",
    "\n",
    "A **cut** of a graph is a partition of the set $V$ in two subset $A,B$ such that $A \\sqcup B = V$.  \n",
    "**The cost** of the graph is defined here as the sum of all the weights of edges connecting the set A and the set B.\n",
    "\n",
    "The optimization problem here is to **maximize the cost of all the edges connecting $A$ with $B$.**\n",
    "\n",
    "<img src=\"cost.png\" width = \"400\"/>"
   ]
  },
  {
   "cell_type": "markdown",
   "metadata": {
    "slideshow": {
     "slide_type": "slide"
    }
   },
   "source": [
    "### 3.2 - Qiskit implementation<a name = 'qimp'></a>\n",
    "#### Construct a 5 nodes graph and the corresponding weight matrix"
   ]
  },
  {
   "cell_type": "code",
   "execution_count": 14,
   "metadata": {
    "slideshow": {
     "slide_type": "fragment"
    }
   },
   "outputs": [
    {
     "data": {
      "image/png": "[encoded data removed]",
      "text/plain": [
       "<Figure size 432x288 with 1 Axes>"
      ]
     },
     "metadata": {},
     "output_type": "display_data"
    }
   ],
   "source": [
    "n=5 # Number of nodes in graph\n",
    "G=nx.Graph() #Graph instance\n",
    "G.add_nodes_from(np.arange(0,n,1)) #Set of nodes of the graph\n",
    "e_list=[(0,1,1.0),(0,3,1.0),(0,4,1.0), (1,2,1.0),(1,3,1.), (2,3,1.0),(2,4,1.0)] #list of the edges of G with associated weight\n",
    "# tuple is (i,j,weight) where (i,j) is the edge\n",
    "G.add_weighted_edges_from(e_list) #adding created edges to the graph\n",
    "\n",
    "colors = ['y' for node in G.nodes()]\n",
    "pos = nx.spring_layout(G)\n",
    "default_axes = plt.axes(frameon=True)\n",
    "nx.draw_networkx(G, node_color=colors, node_size=600, alpha=.8, ax=default_axes, pos=pos)"
   ]
  },
  {
   "cell_type": "code",
   "execution_count": 15,
   "metadata": {
    "slideshow": {
     "slide_type": "slide"
    }
   },
   "outputs": [
    {
     "data": {
      "text/plain": [
       "array([[0., 1., 0., 1., 1.],\n",
       "       [1., 0., 1., 1., 0.],\n",
       "       [0., 1., 0., 1., 1.],\n",
       "       [1., 1., 1., 0., 0.],\n",
       "       [1., 0., 1., 0., 0.]])"
      ]
     },
     "execution_count": 15,
     "metadata": {},
     "output_type": "execute_result"
    }
   ],
   "source": [
    "w = np.zeros([n,n])\n",
    "for i in range(n):\n",
    "    for j in range(i,n):\n",
    "        edge = G.get_edge_data(i,j,default=0)\n",
    "        if edge != 0:\n",
    "            val = edge[\"weight\"]\n",
    "            w[i,j], w[j,i] = val, val\n",
    "w"
   ]
  },
  {
   "cell_type": "markdown",
   "metadata": {
    "slideshow": {
     "slide_type": "slide"
    }
   },
   "source": [
    "##### Brute force approach"
   ]
  },
  {
   "cell_type": "markdown",
   "metadata": {
    "slideshow": {
     "slide_type": "notes"
    }
   },
   "source": [
    "The idea is to assign a bit to each node of the graph, for example we assign 0 to the node if it is in set A, 1 if in set B. Then, we will test every bitstring of size 5 possible to find one with the greatest cost possible. Note that the solution we will find may not be unique, there may be several solutions reaching the maximal cost possible. It is mostly to see the maximum cost so we know if we reached it with the VQE instance.\n",
    "\n",
    "This tests $2^n$ solutions, so 32 in this case meaning it can run without taking too much time, but this can quickly explode if the studied graph has many more nodes."
   ]
  },
  {
   "cell_type": "code",
   "execution_count": 16,
   "metadata": {
    "scrolled": false,
    "slideshow": {
     "slide_type": "fragment"
    }
   },
   "outputs": [
    {
     "name": "stdout",
     "output_type": "stream",
     "text": [
      "The best solution is = [1, 0, 1, 0, 0] with a cost = 6.0\n"
     ]
    },
    {
     "data": {
      "image/png": "[encoded data removed]",
      "text/plain": [
       "<Figure size 432x288 with 1 Axes>"
      ]
     },
     "metadata": {},
     "output_type": "display_data"
    }
   ],
   "source": [
    "best_cost_brute = 0\n",
    "for b in range(2**n):\n",
    "    x = [int(t) for t in reversed(list(bin(b)[2:].zfill(n)))]\n",
    "    cost = 0\n",
    "    for i in range(n):\n",
    "        for j in range(n):\n",
    "            cost = cost + w[i,j]*x[i]*(1-x[j])\n",
    "    if best_cost_brute < cost:\n",
    "        best_cost_brute = cost\n",
    "        xbest_brute = x \n",
    "    print('For the case = ' + str(x)+ ', we have this cost : ' + str(cost))\n",
    "colors = ['r' if xbest_brute[i] == 0 else 'b' for i in range(n)]\n",
    "nx.draw_networkx(G, node_color=colors, node_size=600, alpha=.8, pos=pos)\n",
    "print('The best solution is = ' + str(xbest_brute) + ' with a cost = ' + str(best_cost_brute))    "
   ]
  },
  {
   "cell_type": "markdown",
   "metadata": {
    "slideshow": {
     "slide_type": "slide"
    }
   },
   "source": [
    "##### Getting the operator specific to the Max-Cut problem from the matrix describing the graph"
   ]
  },
  {
   "cell_type": "code",
   "execution_count": 17,
   "metadata": {
    "slideshow": {
     "slide_type": "fragment"
    }
   },
   "outputs": [
    {
     "data": {
      "text/plain": [
       "(<qiskit.aqua.operators.legacy.weighted_pauli_operator.WeightedPauliOperator at 0x1d8f0bbfdc0>,\n",
       " -3.5)"
      ]
     },
     "execution_count": 17,
     "metadata": {},
     "output_type": "execute_result"
    }
   ],
   "source": [
    "qubitOp, offset = max_cut.get_operator(w)\n",
    "qubitOp, offset"
   ]
  },
  {
   "cell_type": "markdown",
   "metadata": {
    "slideshow": {
     "slide_type": "slide"
    }
   },
   "source": [
    "##### Checking the hamiltonian gives the right solution with the exact solver"
   ]
  },
  {
   "cell_type": "code",
   "execution_count": 18,
   "metadata": {
    "slideshow": {
     "slide_type": "fragment"
    }
   },
   "outputs": [
    {
     "name": "stdout",
     "output_type": "stream",
     "text": [
      "energy: -2.5\n",
      "max-cut objective: 6.0\n",
      "solution: [1 0 1 0 0]\n",
      "solution objective: 6.0\n"
     ]
    },
    {
     "data": {
      "image/png": "[encoded data removed]",
      "text/plain": [
       "<Figure size 432x288 with 1 Axes>"
      ]
     },
     "metadata": {},
     "output_type": "display_data"
    }
   ],
   "source": [
    "exact = NumPyEigensolver(qubitOp, k=1)\n",
    "result = exact.run()\n",
    "\n",
    "x = sample_most_likely(result['eigenstates'][0])\n",
    "energy = min([i.real for i in result['eigenvalues']])\n",
    "print('energy:', energy)\n",
    "print('max-cut objective:', abs(energy + offset))\n",
    "print('solution:', max_cut.get_graph_solution(x))\n",
    "print('solution objective:', max_cut.max_cut_value(x, w))\n",
    "colors = ['r' if max_cut.get_graph_solution(x)[i] == 0 else 'b' for i in range(n)]\n",
    "nx.draw_networkx(G, node_color=colors, node_size=600, alpha = .8, pos=pos)"
   ]
  },
  {
   "cell_type": "markdown",
   "metadata": {
    "slideshow": {
     "slide_type": "slide"
    }
   },
   "source": [
    "##### Running the VQE instance"
   ]
  },
  {
   "cell_type": "code",
   "execution_count": 19,
   "metadata": {
    "slideshow": {
     "slide_type": "fragment"
    }
   },
   "outputs": [],
   "source": [
    "seed = 10598\n",
    "\n",
    "spsa = SPSA(max_trials=300)\n",
    "var_form = TwoLocal(qubitOp.num_qubits,'ry',reps=1,insert_barriers=True, skip_final_rotation_layer=True)\n",
    "vqe = VQE(qubitOp, var_form, spsa)\n",
    "\n",
    "backend = Aer.get_backend('qasm_simulator')\n",
    "quantum_instance = QuantumInstance(backend, shots=8192, seed_simulator=seed, seed_transpiler=seed)\n",
    "\n",
    "result = vqe.run(quantum_instance)"
   ]
  },
  {
   "cell_type": "code",
   "execution_count": 20,
   "metadata": {
    "slideshow": {
     "slide_type": "slide"
    }
   },
   "outputs": [
    {
     "name": "stdout",
     "output_type": "stream",
     "text": [
      "energy: -2.49999992456674\n",
      "time: 18.535477876663208\n",
      "max-cut objective: 6.0\n",
      "solution: [1 0 1 0 0]\n",
      "solution objective: 6.0\n"
     ]
    },
    {
     "data": {
      "image/png": "[encoded data removed]",
      "text/plain": [
       "<Figure size 432x288 with 1 Axes>"
      ]
     },
     "metadata": {},
     "output_type": "display_data"
    }
   ],
   "source": [
    "x = sample_most_likely(result['eigenstate'])\n",
    "print('energy:', result['optimal_value'])\n",
    "print('time:', result['optimizer_time'])\n",
    "print('max-cut objective:',  abs(energy + offset))\n",
    "print('solution:', max_cut.get_graph_solution(x))\n",
    "print('solution objective:', max_cut.max_cut_value(x, w))\n",
    "\n",
    "colors = ['r' if max_cut.get_graph_solution(x)[i] == 0 else 'b' for i in range(n)]\n",
    "nx.draw_networkx(G, node_color=colors, node_size=600, alpha = .8, pos=pos)"
   ]
  },
  {
   "cell_type": "markdown",
   "metadata": {
    "slideshow": {
     "slide_type": "skip"
    }
   },
   "source": [
    "## References\n",
    "\n",
    "1. Jack D. Hidary, *Quantum Computing : an applied approach*, Springer 2019\n",
    "2. Michael A. Nielsen and Isaac L. Chuang, *Quantum Computation and Quantum Information*, Cambridge University Press 2000\n",
    "3. Qiskit textbook, [*Simulating Molecules using VQE*](https://qiskit.org/textbook/ch-applications/vqe-molecules.html)\n",
    "4. Ronald de Wolf, *Quantum Computing : Lecture Notes*, arXiv:1907.09415v1 2019\n",
    "5. Qiskit, [legacy tutorial](https://github.com/Qiskit/qiskit-tutorials/blob/master/legacy_tutorials/aqua/optimization/max_cut_and_tsp.ipynb)"
   ]
  }
 ],
 "metadata": {
  "kernelspec": {
   "display_name": "Python 3",
   "language": "python",
   "name": "python3"
  },
  "language_info": {
   "codemirror_mode": {
    "name": "ipython",
    "version": 3
   },
   "file_extension": ".py",
   "mimetype": "text/x-python",
   "name": "python",
   "nbconvert_exporter": "python",
   "pygments_lexer": "ipython3",
   "version": "3.8.1"
  }
 },
 "nbformat": 4,
 "nbformat_minor": 4
}
