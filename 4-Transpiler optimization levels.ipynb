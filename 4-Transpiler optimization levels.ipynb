{
 "cells": [
  {
   "cell_type": "markdown",
   "metadata": {
    "slideshow": {
     "slide_type": "slide"
    }
   },
   "source": [
    "# Using Qiskit Terra\n"
   ]
  },
  {
   "cell_type": "markdown",
   "metadata": {
    "slideshow": {
     "slide_type": "fragment"
    }
   },
   "source": [
    "Qiskit Terra contains tools that **define**, **compile** and **execute** quantum circuits on arbitrary **backends**.\n",
    "It allows users to manipulate qubits by using gates and even construct circuits at the level of **pulses**"
   ]
  },
  {
   "cell_type": "code",
   "execution_count": 6,
   "metadata": {
    "slideshow": {
     "slide_type": "slide"
    }
   },
   "outputs": [
    {
     "name": "stderr",
     "output_type": "stream",
     "text": [
      "ibmqfactory.load_account:WARNING:2020-06-05 09:56:07,407: Credentials are already in use. The existing account in the session will be replaced.\n"
     ]
    }
   ],
   "source": [
    "# Import required fuctions from qiskit\n",
    "from qiskit import QuantumRegister, ClassicalRegister, QuantumCircuit, IBMQ\n",
    "from qiskit.compiler import transpile, assemble\n",
    "IBMQ.load_account()\n",
    "provider = IBMQ.get_provider(hub='ibm-q-internal', group='support', project='core-team')\n",
    "backend = provider.backends.ibmq_singapore"
   ]
  },
  {
   "cell_type": "markdown",
   "metadata": {},
   "source": [
    "# Transpiler Optimization levels \n",
    "\n",
    "optimization_level: How much optimization to perform on the circuits.\n",
    "   - Higher levels generate more optimized circuits, at the expense of longer transpilation time.\n",
    "            0: no optimization\n",
    "            1: light optimization\n",
    "            2: heavy optimization\n",
    "            3: even heavier optimization\n",
    "            If ``None``, level 1 will be chosen as default.\n",
    "\n",
    "\n",
    "\n",
    "\n",
    "These optimization levels are provided via \"preset passmanagers\" in Qiskit. These are simple-to-use transpiler pipelines. You can see what each does by inspecting the documentation for those: https://github.com/Qiskit/qiskit-terra/tree/master/qiskit/transpiler/preset_passmanagers\n",
    "\n",
    "Level 0 does no explicit optimization, it will just try to make a circuit runnable by transforming it to match a topology and basis gate set, if necessary.\n",
    "\n",
    "Level 1, 2 and 3 do light, medium and heavy optimization, using a combination of passes, and by configuring the passes to search for better solutions. Typically more optimality comes at the cost of slower transpilation, as it spends more time searching for a good optimization.\n",
    "\n",
    "The difference between level 2 and level 3: \n",
    "   - In level 2 the transpiler does some commutation analysis to see what gates can be collapsed. \n",
    "   - In level 3, in addition to that, it does peep-hole optimization by combining a chain of gates on the same qubits and re-synthesizing them with better cost. Also the routing stage of level 3 is more expensive than level 2 (it has a larger search space, as set by parameters of the StochasticSwap and LookaheadSwap passes).\n",
    "\n",
    "It is important to keep in mind that these are heuristics. It is possible that, for a specific circuit, you will not see much improvement by increasing the level.\n",
    "\n",
    "\n",
    "The optimization level that is chosen impacts the mapping strategies as follow : \n",
    "   - Trivial layout: Map virtual qubits to the same numbered physical qubit on the device, i.e. [0,1,2,3,4] -> [0,1,2,3,4] (default in optimization_level=0).\n",
    "\n",
    "   - Dense layout: Find the sub-graph of the device with same number of qubits as the circuit with the greatest connectivity (default in optimization_level=1).\n",
    "\n",
    "   - Noise adaptive layout: Uses the noise properties of the device, in concert with the circuit properties, to generate the layout with the best noise properties (default in optimization_level=2 and optimization_level=3).\n",
    "\n"
   ]
  },
  {
   "cell_type": "code",
   "execution_count": 79,
   "metadata": {},
   "outputs": [],
   "source": [
    "# from Circuit Library \n",
    "# We Generate a random circuit of arbitrary size and form. \n",
    "# This function will generate a random circuit by randomly selecting gates from the set of standard gates \n",
    "from qiskit.circuit.random import random_circuit\n",
    "\n",
    "circ = random_circuit(5, 5, measure=False)\n",
    "\n",
    "print(circ.count_ops())\n",
    "\n",
    "circ.draw(output='mpl')"
   ]
  },
  {
   "cell_type": "code",
   "execution_count": 80,
   "metadata": {
    "scrolled": true
   },
   "outputs": [],
   "source": [
    "# Let's transpile that circuit. We'll use simgapore as backend \n",
    "# backend: when set, the transpiler options are automatically grabbed from `backend.configuration()` \n",
    "# and `backend.properties()`. If any other option is explicitly set (e.g., ``coupling_map``), it \n",
    "# will override the backend's.\n",
    "\n",
    "tpl_circ = transpile(circ, backend)\n",
    "\n",
    "# count of operations\n",
    "print(tpl_circ.count_ops())\n",
    "\n",
    "# draw the circuit when transpiled\n",
    "tpl_circ.draw(output='mpl', idle_wires=True)\n",
    "\n"
   ]
  },
  {
   "cell_type": "markdown",
   "metadata": {},
   "source": [
    "## *Now it's your turn to play!*\n",
    "<div class=\"alert alert-block alert-info\">\n",
    "<b>Note:</b>\n",
    "Here's a first challenge for you:  \n",
    "    \n",
    "  - Generate a random circuit with 8 qubits and a depth of 10. Add the measure to the circuit\n",
    "  - Tranpile that circuit using the backend 'ibmq_singapore' using different optimization_levels (0, 1, 2 and 3.\n",
    "  - Draw each circuit\n",
    "  - Count operations and depth of each transpiled circuits\n",
    " </div> \n",
    "</div>"
   ]
  },
  {
   "cell_type": "code",
   "execution_count": null,
   "metadata": {},
   "outputs": [],
   "source": [
    "# Generate your random circuit \n",
    "\n",
    "\n"
   ]
  },
  {
   "cell_type": "code",
   "execution_count": null,
   "metadata": {},
   "outputs": [],
   "source": [
    "# transpile your circuit using ibmq_singapore as backend\n",
    "\n",
    "\n"
   ]
  },
  {
   "cell_type": "code",
   "execution_count": null,
   "metadata": {},
   "outputs": [],
   "source": [
    "# print out the count operations \n",
    "\n",
    "\n"
   ]
  },
  {
   "cell_type": "code",
   "execution_count": null,
   "metadata": {},
   "outputs": [],
   "source": [
    "# draw the circuit \n",
    "\n",
    "\n"
   ]
  },
  {
   "cell_type": "markdown",
   "metadata": {},
   "source": [
    "<div class=\"alert alert-block alert-info\">\n",
    "<b>Note:</b>\n",
    "Here's a second challenge for you: Consider the circuit \"qc\" below  \n",
    " \n",
    "  - First transpile the circuit using optimization levels 1, 2 and 3\n",
    "  - Use assemble to create a Qobj of the 3 circuits. \n",
    "  - Run that list of circuit in one job using \"ibmq_singapore\" as backend\n",
    "  - Plot the counts results for each circuit   \n",
    " </div> \n",
    "</div>"
   ]
  },
  {
   "cell_type": "code",
   "execution_count": 81,
   "metadata": {},
   "outputs": [
    {
     "data": {
      "text/plain": [
       "<qiskit.circuit.instructionset.InstructionSet at 0x23d5d4e4cd0>"
      ]
     },
     "execution_count": 81,
     "metadata": {},
     "output_type": "execute_result"
    }
   ],
   "source": [
    "from qiskit import QuantumCircuit\n",
    "\n",
    "qc = QuantumCircuit(4,3)\n",
    "qc.x(3)\n",
    "qc.h(3)\n",
    "qc.h(range(3))\n",
    "qc.cx(range(3), 3)\n",
    "qc.h(range(3))\n",
    "qc.barrier(range(3))\n",
    "qc.measure(range(3), range(3))\n",
    "qc.draw(output='mpl')"
   ]
  },
  {
   "cell_type": "code",
   "execution_count": null,
   "metadata": {},
   "outputs": [],
   "source": [
    "# qiskit import \n",
    "from qiskit.compiler import assemble, transpile\n"
   ]
  },
  {
   "cell_type": "code",
   "execution_count": null,
   "metadata": {},
   "outputs": [],
   "source": [
    "# Set your backend to \"ibmq_singapore\" \n"
   ]
  },
  {
   "cell_type": "code",
   "execution_count": null,
   "metadata": {},
   "outputs": [],
   "source": [
    "# Transpile the \"qc\" circuit using the optimization levels 1, 2 and 3 \n"
   ]
  },
  {
   "cell_type": "code",
   "execution_count": null,
   "metadata": {},
   "outputs": [],
   "source": [
    "# print the operations count for each circuit transpiled and its depth as well \n"
   ]
  },
  {
   "cell_type": "code",
   "execution_count": 143,
   "metadata": {},
   "outputs": [],
   "source": [
    "# Assemble the 3 circuits transpiled into one Qobj. \n",
    "# assemble function for converting a list of circuits into a qobj (pass a list of the 3 circuits)\n",
    "# you must create a list containing the 3 circuits and pass the list to \"assemble\"\n",
    " \n"
   ]
  },
  {
   "cell_type": "code",
   "execution_count": null,
   "metadata": {},
   "outputs": [],
   "source": [
    "# run the Qobj in one job using your backend \n"
   ]
  },
  {
   "cell_type": "code",
   "execution_count": null,
   "metadata": {},
   "outputs": [],
   "source": [
    "# get the count results of the job \n"
   ]
  },
  {
   "cell_type": "code",
   "execution_count": null,
   "metadata": {},
   "outputs": [],
   "source": [
    "# from the count results get the count for each circuit \n"
   ]
  },
  {
   "cell_type": "code",
   "execution_count": null,
   "metadata": {},
   "outputs": [],
   "source": [
    "# plot the counts for each circuit in one plot_histogram \n"
   ]
  },
  {
   "cell_type": "markdown",
   "metadata": {},
   "source": [
    "# Pass Manager "
   ]
  },
  {
   "cell_type": "code",
   "execution_count": 89,
   "metadata": {
    "slideshow": {
     "slide_type": "fragment"
    }
   },
   "outputs": [],
   "source": [
    "# execute the code below using the 'qasm_simulator'\n",
    "from qiskit import Aer\n",
    "from qiskit.transpiler import PassManager\n",
    "from qiskit.transpiler.passes import BasicSwap\n",
    "from qiskit.compiler import transpile\n",
    "from qiskit.transpiler import CouplingMap\n",
    "\n",
    "coupling = [[0, 1], [1, 2], [2, 3], [3, 4], [4, 5], [5, 6]]\n",
    "\n",
    "\n",
    "simulator = Aer.get_backend('qasm_simulator')\n",
    "\n",
    "\n",
    "coupling_map = CouplingMap(couplinglist=coupling)\n",
    "\n",
    "\n",
    "pm = PassManager()\n",
    "\n",
    "pm.append([BasicSwap(coupling_map=coupling_map)])\n",
    "\n",
    "# transpiled_circuit = pm.run(tpl_circuit)\n",
    "tpl_circuit = pm.run(qc)\n",
    "\n",
    "tpl_circuit.draw(output='mpl')\n",
    "\n"
   ]
  },
  {
   "cell_type": "code",
   "execution_count": 90,
   "metadata": {},
   "outputs": [],
   "source": [
    "# execute the same code on a real backend 'ibmq_16_melbourne'\n",
    "realdevice = provider.backends.ibmq_16_melbourne\n",
    "tpl_realdevice = transpile(tpl_circuit, backend = realdevice, optimization_level=2)\n",
    "tpl_realdevice.draw(output='mpl', idle_wires=False)"
   ]
  },
  {
   "cell_type": "markdown",
   "metadata": {},
   "source": [
    "<div class=\"alert alert-block alert-info\">\n",
    "<b>Note:</b>\n",
    "Here's a question for you: Consider the circuit tpl_realdevice \n",
    " \n",
    "  - How do you explain the difference in the number of CNOT gates between the circuit transpiled on the simulator and the circuit transpiled on the real backend 'ibmq_16_melbourne' \n",
    " </div> \n",
    "</div>"
   ]
  },
  {
   "cell_type": "code",
   "execution_count": null,
   "metadata": {},
   "outputs": [],
   "source": []
  }
 ],
 "metadata": {
  "kernelspec": {
   "display_name": "Python 3",
   "language": "python",
   "name": "python3"
  },
  "language_info": {
   "codemirror_mode": {
    "name": "ipython",
    "version": 3
   },
   "file_extension": ".py",
   "mimetype": "text/x-python",
   "name": "python",
   "nbconvert_exporter": "python",
   "pygments_lexer": "ipython3",
   "version": "3.8.2"
  }
 },
 "nbformat": 4,
 "nbformat_minor": 2
}
