{
 "cells": [
  {
   "cell_type": "markdown",
   "metadata": {
    "slideshow": {
     "slide_type": "slide"
    }
   },
   "source": [
    "# Introduction to Qiskit\n"
   ]
  },
  {
   "cell_type": "markdown",
   "metadata": {
    "slideshow": {
     "slide_type": "slide"
    }
   },
   "source": [
    "**Qiskit**<br/>\n",
    "|<br/>\n",
    "|- **Terra** -- Solid foundation for running quantum circuits on device and simulator backends<br/>\n",
    "|- **Aer** -- Simulators + noise models<br/>\n",
    "|- **Aqua** -- High-level quantum algorithms for various applications (chemistry, finance, optimization, AI)<br/>\n",
    "|- **Ignis** -- Tools for understanding and mitigating noise (T1 and T2 measurements, randomized benchmarking, tomography)<br/>\n",
    "\n"
   ]
  },
  {
   "cell_type": "markdown",
   "metadata": {
    "slideshow": {
     "slide_type": "slide"
    }
   },
   "source": [
    "# Installing Qiskit\n",
    "\n",
    "https://qiskit.org/documentation/install.html"
   ]
  },
  {
   "cell_type": "markdown",
   "metadata": {
    "slideshow": {
     "slide_type": "slide"
    }
   },
   "source": [
    "Make sure Python >= 3.5 is available. \n",
    "Highly recommend installing Python using Anaconda (includes `jupyter notebook` and other Python packages).\n",
    "```\n",
    "$ pip install qiskit\n",
    "\n",
    "```"
   ]
  },
  {
   "cell_type": "code",
   "execution_count": 77,
   "metadata": {
    "slideshow": {
     "slide_type": "fragment"
    }
   },
   "outputs": [],
   "source": [
    "# Try some import from qiskit\n",
    "from qiskit import QuantumCircuit\n",
    "from qiskit import QuantumCircuit, Aer, execute\n",
    "\n",
    "from qiskit.aqua.algorithms import Grover\n",
    "\n",
    "from qiskit.ignis.verification.randomized_benchmarking import RBFitter\n",
    "from qiskit.chemistry import *"
   ]
  },
  {
   "cell_type": "markdown",
   "metadata": {},
   "source": [
    "# Checking qiskit version "
   ]
  },
  {
   "cell_type": "code",
   "execution_count": 1,
   "metadata": {},
   "outputs": [],
   "source": [
    "import qiskit\n",
    "\n",
    "print(\"Terra version :\" ,qiskit.__version__ )\n",
    "\n",
    "print(\"\\nQiskit components version :\", qiskit.__qiskit_version__ )\n"
   ]
  },
  {
   "cell_type": "code",
   "execution_count": 2,
   "metadata": {},
   "outputs": [],
   "source": [
    "# Another way to check qiskit version\n",
    "import qiskit.tools.jupyter\n",
    "\n",
    "%qiskit_version_table"
   ]
  },
  {
   "cell_type": "markdown",
   "metadata": {
    "slideshow": {
     "slide_type": "slide"
    }
   },
   "source": [
    "# Setting up access to run devices\n",
    "\n",
    "https://qiskit.org/documentation/install.html#install-access-ibm-q-devices-label"
   ]
  },
  {
   "cell_type": "code",
   "execution_count": 90,
   "metadata": {
    "slideshow": {
     "slide_type": "fragment"
    }
   },
   "outputs": [],
   "source": [
    "# save your token to your local laptop\n",
    "from qiskit import IBMQ\n",
    "\n",
    "API_TOKEN = '<Your Token>'\n",
    "\n",
    "IBMQ.save_account(API_TOKEN)"
   ]
  },
  {
   "cell_type": "markdown",
   "metadata": {
    "slideshow": {
     "slide_type": "slide"
    }
   },
   "source": [
    "# Loading saved access to run devices"
   ]
  },
  {
   "cell_type": "code",
   "execution_count": 9,
   "metadata": {
    "slideshow": {
     "slide_type": "fragment"
    }
   },
   "outputs": [
    {
     "data": {
      "text/plain": [
       "<AccountProvider for IBMQ(hub='ibm-q', group='open', project='main')>"
      ]
     },
     "execution_count": 9,
     "metadata": {},
     "output_type": "execute_result"
    }
   ],
   "source": [
    "from qiskit import IBMQ\n",
    "IBMQ.load_account()"
   ]
  },
  {
   "cell_type": "markdown",
   "metadata": {},
   "source": [
    "# Using a provider"
   ]
  },
  {
   "cell_type": "code",
   "execution_count": 10,
   "metadata": {
    "slideshow": {
     "slide_type": "fragment"
    }
   },
   "outputs": [
    {
     "data": {
      "text/plain": [
       "[<AccountProvider for IBMQ(hub='ibm-q', group='open', project='main')>,\n",
       " <AccountProvider for IBMQ(hub='ibm-q-internal', group='support', project='core-team')>,\n",
       " <AccountProvider for IBMQ(hub='ibm-q-internal', group='support', project='support-team')>,\n",
       " <AccountProvider for IBMQ(hub='ibm-q-internal', group='support', project='test-provider')>,\n",
       " <AccountProvider for IBMQ(hub='ibm-q-internal', group='deployed', project='default')>,\n",
       " <AccountProvider for IBMQ(hub='ibm-q-example', group='patricktest', project='myproject')>,\n",
       " <AccountProvider for IBMQ(hub='ibm-q-example', group='grp-priv', project='proj-priv')>]"
      ]
     },
     "execution_count": 10,
     "metadata": {},
     "output_type": "execute_result"
    }
   ],
   "source": [
    "# listing the providers you have access to \n",
    "IBMQ.providers()\n"
   ]
  },
  {
   "cell_type": "code",
   "execution_count": 11,
   "metadata": {},
   "outputs": [],
   "source": [
    "# let's use a provider \n",
    "# Here below we use the open group provider giving access to the \"open\" devices\n",
    "\n",
    "provider = IBMQ.get_provider(hub='ibm-q-internal', group='support', project='core-team')"
   ]
  },
  {
   "cell_type": "code",
   "execution_count": 92,
   "metadata": {},
   "outputs": [],
   "source": [
    "# Use your Fraunhofer provider to access \"premium\" devices\n",
    "\n",
    "provider = IBMQ.get_provider(hub='ibm-q-fraunhofer', group='<your group>', project='<Your project>')\n"
   ]
  },
  {
   "cell_type": "markdown",
   "metadata": {
    "slideshow": {
     "slide_type": "slide"
    }
   },
   "source": [
    "# Backends for your provider"
   ]
  },
  {
   "cell_type": "code",
   "execution_count": 12,
   "metadata": {},
   "outputs": [
    {
     "data": {
      "text/plain": [
       "[<IBMQSimulator('ibmq_qasm_simulator') from IBMQ(hub='ibm-q-internal', group='support', project='core-team')>,\n",
       " <IBMQBackend('ibmqx2') from IBMQ(hub='ibm-q-internal', group='support', project='core-team')>,\n",
       " <IBMQBackend('ibmq_16_melbourne') from IBMQ(hub='ibm-q-internal', group='support', project='core-team')>,\n",
       " <IBMQBackend('ibmq_poughkeepsie') from IBMQ(hub='ibm-q-internal', group='support', project='core-team')>,\n",
       " <IBMQBackend('ibmq_boeblingen') from IBMQ(hub='ibm-q-internal', group='support', project='core-team')>,\n",
       " <IBMQBackend('ibmq_vigo') from IBMQ(hub='ibm-q-internal', group='support', project='core-team')>,\n",
       " <IBMQBackend('ibmq_ourense') from IBMQ(hub='ibm-q-internal', group='support', project='core-team')>,\n",
       " <IBMQBackend('ibmq_valencia') from IBMQ(hub='ibm-q-internal', group='support', project='core-team')>,\n",
       " <IBMQBackend('ibmq_london') from IBMQ(hub='ibm-q-internal', group='support', project='core-team')>,\n",
       " <IBMQBackend('ibmq_burlington') from IBMQ(hub='ibm-q-internal', group='support', project='core-team')>,\n",
       " <IBMQBackend('ibmq_singapore') from IBMQ(hub='ibm-q-internal', group='support', project='core-team')>,\n",
       " <IBMQBackend('ibmq_almaden') from IBMQ(hub='ibm-q-internal', group='support', project='core-team')>,\n",
       " <IBMQBackend('ibmq_johannesburg') from IBMQ(hub='ibm-q-internal', group='support', project='core-team')>,\n",
       " <IBMQBackend('ibmq_rochester') from IBMQ(hub='ibm-q-internal', group='support', project='core-team')>,\n",
       " <IBMQBackend('ibmq_essex') from IBMQ(hub='ibm-q-internal', group='support', project='core-team')>,\n",
       " <IBMQBackend('ibmq_armonk') from IBMQ(hub='ibm-q-internal', group='support', project='core-team')>,\n",
       " <IBMQBackend('ibmq_cambridge') from IBMQ(hub='ibm-q-internal', group='support', project='core-team')>,\n",
       " <IBMQBackend('ibmq_paris') from IBMQ(hub='ibm-q-internal', group='support', project='core-team')>,\n",
       " <IBMQBackend('ibmq_athens') from IBMQ(hub='ibm-q-internal', group='support', project='core-team')>,\n",
       " <IBMQBackend('ibmq_rome') from IBMQ(hub='ibm-q-internal', group='support', project='core-team')>]"
      ]
     },
     "execution_count": 12,
     "metadata": {},
     "output_type": "execute_result"
    }
   ],
   "source": [
    "# listing backends your provider have access to \n",
    "provider.backends()"
   ]
  },
  {
   "cell_type": "code",
   "execution_count": 13,
   "metadata": {
    "slideshow": {
     "slide_type": "fragment"
    }
   },
   "outputs": [
    {
     "data": {
      "application/vnd.jupyter.widget-view+json": {
       "model_id": "345a4739b3574c93a2c935f49c27f57d",
       "version_major": 2,
       "version_minor": 0
      },
      "text/plain": [
       "VBox(children=(HTML(value=\"<h2 style ='color:#ffffff; background-color:#000000;padding-top: 1%; padding-bottom…"
      ]
     },
     "metadata": {},
     "output_type": "display_data"
    }
   ],
   "source": [
    "# get an overview of the backends\n",
    "from qiskit.tools.jupyter import *\n",
    "%qiskit_backend_overview"
   ]
  },
  {
   "cell_type": "markdown",
   "metadata": {},
   "source": [
    "# The least busy backend"
   ]
  },
  {
   "cell_type": "code",
   "execution_count": 16,
   "metadata": {},
   "outputs": [
    {
     "name": "stdout",
     "output_type": "stream",
     "text": [
      "The least busy backend is:  ibmq_boeblingen\n"
     ]
    }
   ],
   "source": [
    "# Checking for the least busy backend \n",
    "from qiskit.providers.ibmq import least_busy\n",
    "\n",
    "available_backends=provider.backends(simulator=False, operational=True)\n",
    "\n",
    "lb_backend = least_busy(available_backends)\n",
    "\n",
    "print('The least busy backend is: ', lb_backend.name())"
   ]
  },
  {
   "cell_type": "markdown",
   "metadata": {},
   "source": [
    "# Using the least busy backend"
   ]
  },
  {
   "cell_type": "code",
   "execution_count": 17,
   "metadata": {},
   "outputs": [
    {
     "data": {
      "text/plain": [
       "'ibmq_boeblingen'"
      ]
     },
     "execution_count": 17,
     "metadata": {},
     "output_type": "execute_result"
    }
   ],
   "source": [
    "backend = least_busy(available_backends)\n",
    "backend.name()"
   ]
  },
  {
   "cell_type": "code",
   "execution_count": 21,
   "metadata": {},
   "outputs": [
    {
     "name": "stdout",
     "output_type": "stream",
     "text": [
      "ibmq_boeblingen\n"
     ]
    }
   ],
   "source": [
    "# if you wanna use the least busy backend \n",
    "backend = provider.get_backend(backend.name())\n",
    "print(backend)"
   ]
  },
  {
   "cell_type": "markdown",
   "metadata": {},
   "source": [
    "### If you want to get the least busy backend among premium device with more thatn 16 qubits  "
   ]
  },
  {
   "cell_type": "code",
   "execution_count": 26,
   "metadata": {},
   "outputs": [
    {
     "name": "stdout",
     "output_type": "stream",
     "text": [
      "[<IBMQBackend('ibmq_rochester') from IBMQ(hub='ibm-q-internal', group='support', project='core-team')>, <IBMQBackend('ibmq_cambridge') from IBMQ(hub='ibm-q-internal', group='support', project='core-team')>, <IBMQBackend('ibmq_paris') from IBMQ(hub='ibm-q-internal', group='support', project='core-team')>]\n"
     ]
    }
   ],
   "source": [
    "# print only the real backends of your provider and those with a number of qubits greater than 1\n",
    "# filter available backends without ibmq_armonk \n",
    "\n",
    "backends = list(filter(lambda device:device.configuration().num_qubits>20, available_backends))\n",
    "print (backends)"
   ]
  },
  {
   "cell_type": "code",
   "execution_count": 27,
   "metadata": {},
   "outputs": [
    {
     "name": "stdout",
     "output_type": "stream",
     "text": [
      "ibmq_cambridge\n"
     ]
    },
    {
     "data": {
      "application/vnd.jupyter.widget-view+json": {
       "model_id": "0c9d7135dc4043e3aae80dc0387cb1f1",
       "version_major": 2,
       "version_minor": 0
      },
      "text/plain": [
       "VBox(children=(HTML(value=\"<h1 style='color:#ffffff;background-color:#000000;padding-top: 1%;padding-bottom: 1…"
      ]
     },
     "metadata": {},
     "output_type": "display_data"
    },
    {
     "data": {
      "text/plain": [
       "<IBMQBackend('ibmq_cambridge') from IBMQ(hub='ibm-q-internal', group='support', project='core-team')>"
      ]
     },
     "execution_count": 27,
     "metadata": {},
     "output_type": "execute_result"
    }
   ],
   "source": [
    "# using the least busy backend with more thatn 16 qubits  \n",
    "lb_backend = least_busy(backends)    \n",
    "print(lb_backend)\n",
    "\n",
    "lb_backend"
   ]
  },
  {
   "cell_type": "markdown",
   "metadata": {},
   "source": [
    "# Using a specific backend \n",
    "\n",
    "### your primary backend at Fraunhofer being \"ibmq_singapore\""
   ]
  },
  {
   "cell_type": "code",
   "execution_count": 100,
   "metadata": {},
   "outputs": [
    {
     "data": {
      "text/plain": [
       "'ibmq_singapore'"
      ]
     },
     "execution_count": 100,
     "metadata": {},
     "output_type": "execute_result"
    }
   ],
   "source": [
    "# Selecting ibmq_singapore\n",
    "backend = provider.backends.ibmq_singapore\n",
    "backend.name()"
   ]
  },
  {
   "cell_type": "code",
   "execution_count": 101,
   "metadata": {},
   "outputs": [
    {
     "data": {
      "image/png": "[encoded data removed]",
      "text/plain": [
       "<Figure size 360x360 with 1 Axes>"
      ]
     },
     "execution_count": 101,
     "metadata": {},
     "output_type": "execute_result"
    }
   ],
   "source": [
    "# ploting the coupling map of the backend\n",
    "from qiskit.visualization import plot_gate_map\n",
    "plot_gate_map(backend)"
   ]
  }
 ],
 "metadata": {
  "celltoolbar": "Slideshow",
  "kernelspec": {
   "display_name": "Python 3",
   "language": "python",
   "name": "python3"
  },
  "language_info": {
   "codemirror_mode": {
    "name": "ipython",
    "version": 3
   },
   "file_extension": ".py",
   "mimetype": "text/x-python",
   "name": "python",
   "nbconvert_exporter": "python",
   "pygments_lexer": "ipython3",
   "version": "3.8.2"
  }
 },
 "nbformat": 4,
 "nbformat_minor": 2
}
