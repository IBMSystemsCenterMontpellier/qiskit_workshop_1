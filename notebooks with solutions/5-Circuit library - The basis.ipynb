{
 "cells": [
  {
   "cell_type": "markdown",
   "metadata": {
    "slideshow": {
     "slide_type": "slide"
    }
   },
   "source": [
    "# Circuit Library \n",
    "https://qiskit.org/documentation/apidoc/circuit_library.html#module-qiskit.circuit.library\n",
    "\n"
   ]
  },
  {
   "cell_type": "markdown",
   "metadata": {
    "slideshow": {
     "slide_type": "slide"
    }
   },
   "source": [
    "# The circuit library (qiskit 0.19)\n",
    "   - Collection of valuable circuit families\n",
    "    * Building blocks for algorithms\n",
    "    * difficult to simulate classically\n",
    "    * Useful for education\n",
    "   - Library contains tests, documentation and is easily extensible\n",
    "   - Qiskit Aqua works natively with this suite of circuits\n",
    "   "
   ]
  },
  {
   "cell_type": "markdown",
   "metadata": {
    "slideshow": {
     "slide_type": "slide"
    }
   },
   "source": [
    "\n",
    "![img](library_overview.png)"
   ]
  },
  {
   "cell_type": "markdown",
   "metadata": {
    "slideshow": {
     "slide_type": "slide"
    }
   },
   "source": [
    "# Examples of Circuit Library usage\n",
    "\n",
    "### *Using standard Gates* "
   ]
  },
  {
   "cell_type": "code",
   "execution_count": 280,
   "metadata": {
    "slideshow": {
     "slide_type": "subslide"
    }
   },
   "outputs": [],
   "source": [
    "import qiskit.tools.jupyter\n",
    "# %qiskit_job_watcher"
   ]
  },
  {
   "cell_type": "code",
   "execution_count": 303,
   "metadata": {
    "slideshow": {
     "slide_type": "subslide"
    }
   },
   "outputs": [
    {
     "name": "stdout",
     "output_type": "stream",
     "text": [
      "This is my gate definition:  [[<qiskit.circuit.library.standard_gates.x.XGate object at 0x000002430C890FD0>, [Qubit(QuantumRegister(2, 'q'), 0)], []], (<qiskit.circuit.library.standard_gates.h.HGate object at 0x000002430C8E0F10>, [Qubit(QuantumRegister(2, 'q'), 1)], []), (<qiskit.circuit.library.standard_gates.x.CXGate object at 0x000002430C890850>, [Qubit(QuantumRegister(2, 'q'), 0), Qubit(QuantumRegister(2, 'q'), 1)], []), (<qiskit.circuit.library.standard_gates.h.HGate object at 0x000002430C8906A0>, [Qubit(QuantumRegister(2, 'q'), 1)], []), [<qiskit.circuit.library.standard_gates.x.XGate object at 0x000002430C890FD0>, [Qubit(QuantumRegister(2, 'q'), 0)], []]]\n"
     ]
    }
   ],
   "source": [
    "# The single-qubit Pauli-Z gate \n",
    "# Equivalent to a 'pi' radian rotation about the Z axis.\n",
    "from qiskit.circuit.library import CZGate\n",
    "\n",
    "# we create a gate that we name 'mycz' with a label 'cz'\n",
    "label='cz'\n",
    "ctrl_state=0\n",
    "mycz = CZGate(label=label, ctrl_state=ctrl_state)\n",
    "\n",
    "print(\"This is my gate definition: \" , mycz.definition)\n"
   ]
  },
  {
   "cell_type": "code",
   "execution_count": 309,
   "metadata": {
    "slideshow": {
     "slide_type": "subslide"
    }
   },
   "outputs": [
    {
     "data": {
      "text/html": [
       "<pre style=\"word-wrap: normal;white-space: pre;background: #fff0;line-height: 1.1;font-family: &quot;Courier New&quot;,Courier,monospace\">     ┌─────┐\n",
       "q_0: ┤0    ├\n",
       "     │  cz │\n",
       "q_1: ┤1    ├\n",
       "     └─────┘</pre>"
      ],
      "text/plain": [
       "     ┌─────┐\n",
       "q_0: ┤0    ├\n",
       "     │  cz │\n",
       "q_1: ┤1    ├\n",
       "     └─────┘"
      ]
     },
     "execution_count": 309,
     "metadata": {},
     "output_type": "execute_result"
    }
   ],
   "source": [
    "# We create a circuit and append those 2 gates \n",
    "circ = QuantumCircuit(2)\n",
    "circ.append(mycz, [0,1])\n",
    "circ.draw()"
   ]
  },
  {
   "cell_type": "code",
   "execution_count": 310,
   "metadata": {},
   "outputs": [
    {
     "data": {
      "text/html": [
       "<pre style=\"word-wrap: normal;white-space: pre;background: #fff0;line-height: 1.1;font-family: &quot;Courier New&quot;,Courier,monospace\">     ┌───┐     ┌───┐\n",
       "q_0: ┤ X ├──■──┤ X ├\n",
       "     ├───┤┌─┴─┐├───┤\n",
       "q_1: ┤ H ├┤ X ├┤ H ├\n",
       "     └───┘└───┘└───┘</pre>"
      ],
      "text/plain": [
       "     ┌───┐     ┌───┐\n",
       "q_0: ┤ X ├──■──┤ X ├\n",
       "     ├───┤┌─┴─┐├───┤\n",
       "q_1: ┤ H ├┤ X ├┤ H ├\n",
       "     └───┘└───┘└───┘"
      ]
     },
     "execution_count": 310,
     "metadata": {},
     "output_type": "execute_result"
    }
   ],
   "source": [
    "#.decompose() does not modify original circuit\n",
    "circ.decompose().draw()"
   ]
  },
  {
   "cell_type": "code",
   "execution_count": 311,
   "metadata": {
    "slideshow": {
     "slide_type": "subslide"
    }
   },
   "outputs": [
    {
     "data": {
      "text/html": [
       "<pre style=\"word-wrap: normal;white-space: pre;background: #fff0;line-height: 1.1;font-family: &quot;Courier New&quot;,Courier,monospace\">     ┌─────┐┌────────┐\n",
       "q_0: ┤0    ├┤0       ├\n",
       "     │  cz ││  cz*12 │\n",
       "q_1: ┤1    ├┤1       ├\n",
       "     └─────┘└────────┘</pre>"
      ],
      "text/plain": [
       "     ┌─────┐┌────────┐\n",
       "q_0: ┤0    ├┤0       ├\n",
       "     │  cz ││  cz*12 │\n",
       "q_1: ┤1    ├┤1       ├\n",
       "     └─────┘└────────┘"
      ]
     },
     "execution_count": 311,
     "metadata": {},
     "output_type": "execute_result"
    }
   ],
   "source": [
    "### We create a gate that is a repeat of the mycz 12 times    \n",
    "mygates = mycz.repeat(12)\n",
    "circ.append(mygates, [0,1])\n",
    "circ.draw()\n"
   ]
  },
  {
   "cell_type": "code",
   "execution_count": 312,
   "metadata": {},
   "outputs": [
    {
     "data": {
      "text/html": [
       "<pre style=\"word-wrap: normal;white-space: pre;background: #fff0;line-height: 1.1;font-family: &quot;Courier New&quot;,Courier,monospace\">     ┌───┐     ┌───┐┌─────┐┌─────┐┌─────┐┌─────┐┌─────┐┌─────┐┌─────┐┌─────┐»\n",
       "q_0: ┤ X ├──■──┤ X ├┤0    ├┤0    ├┤0    ├┤0    ├┤0    ├┤0    ├┤0    ├┤0    ├»\n",
       "     ├───┤┌─┴─┐├───┤│  cz ││  cz ││  cz ││  cz ││  cz ││  cz ││  cz ││  cz │»\n",
       "q_1: ┤ H ├┤ X ├┤ H ├┤1    ├┤1    ├┤1    ├┤1    ├┤1    ├┤1    ├┤1    ├┤1    ├»\n",
       "     └───┘└───┘└───┘└─────┘└─────┘└─────┘└─────┘└─────┘└─────┘└─────┘└─────┘»\n",
       "«     ┌─────┐┌─────┐┌─────┐┌─────┐\n",
       "«q_0: ┤0    ├┤0    ├┤0    ├┤0    ├\n",
       "«     │  cz ││  cz ││  cz ││  cz │\n",
       "«q_1: ┤1    ├┤1    ├┤1    ├┤1    ├\n",
       "«     └─────┘└─────┘└─────┘└─────┘</pre>"
      ],
      "text/plain": [
       "     ┌───┐     ┌───┐┌─────┐┌─────┐┌─────┐┌─────┐┌─────┐┌─────┐┌─────┐┌─────┐»\n",
       "q_0: ┤ X ├──■──┤ X ├┤0    ├┤0    ├┤0    ├┤0    ├┤0    ├┤0    ├┤0    ├┤0    ├»\n",
       "     ├───┤┌─┴─┐├───┤│  cz ││  cz ││  cz ││  cz ││  cz ││  cz ││  cz ││  cz │»\n",
       "q_1: ┤ H ├┤ X ├┤ H ├┤1    ├┤1    ├┤1    ├┤1    ├┤1    ├┤1    ├┤1    ├┤1    ├»\n",
       "     └───┘└───┘└───┘└─────┘└─────┘└─────┘└─────┘└─────┘└─────┘└─────┘└─────┘»\n",
       "«     ┌─────┐┌─────┐┌─────┐┌─────┐\n",
       "«q_0: ┤0    ├┤0    ├┤0    ├┤0    ├\n",
       "«     │  cz ││  cz ││  cz ││  cz │\n",
       "«q_1: ┤1    ├┤1    ├┤1    ├┤1    ├\n",
       "«     └─────┘└─────┘└─────┘└─────┘"
      ]
     },
     "execution_count": 312,
     "metadata": {},
     "output_type": "execute_result"
    }
   ],
   "source": [
    "circ.decompose().draw()"
   ]
  },
  {
   "cell_type": "code",
   "execution_count": 284,
   "metadata": {
    "slideshow": {
     "slide_type": "subslide"
    }
   },
   "outputs": [
    {
     "name": "stdout",
     "output_type": "stream",
     "text": [
      "[[1.+0.j 0.+0.j 0.+0.j 0.+0.j 0.+0.j 0.+0.j 0.+0.j 0.+0.j]\n",
      " [0.+0.j 1.+0.j 0.+0.j 0.+0.j 0.+0.j 0.+0.j 0.+0.j 0.+0.j]\n",
      " [0.+0.j 0.+0.j 1.+0.j 0.+0.j 0.+0.j 0.+0.j 0.+0.j 0.+0.j]\n",
      " [0.+0.j 0.+0.j 0.+0.j 0.+0.j 0.+0.j 0.+0.j 0.+0.j 1.+0.j]\n",
      " [0.+0.j 0.+0.j 0.+0.j 0.+0.j 1.+0.j 0.+0.j 0.+0.j 0.+0.j]\n",
      " [0.+0.j 0.+0.j 0.+0.j 0.+0.j 0.+0.j 1.+0.j 0.+0.j 0.+0.j]\n",
      " [0.+0.j 0.+0.j 0.+0.j 0.+0.j 0.+0.j 0.+0.j 1.+0.j 0.+0.j]\n",
      " [0.+0.j 0.+0.j 0.+0.j 1.+0.j 0.+0.j 0.+0.j 0.+0.j 0.+0.j]]\n",
      "[(<qiskit.circuit.library.standard_gates.h.HGate object at 0x0000024308A95790>, [Qubit(QuantumRegister(3, 'q'), 2)], []), (<qiskit.circuit.library.standard_gates.x.CXGate object at 0x000002430A9FD940>, [Qubit(QuantumRegister(3, 'q'), 1), Qubit(QuantumRegister(3, 'q'), 2)], []), (<qiskit.circuit.library.standard_gates.t.TdgGate object at 0x000002430A91E3D0>, [Qubit(QuantumRegister(3, 'q'), 2)], []), (<qiskit.circuit.library.standard_gates.x.CXGate object at 0x000002430A91E1C0>, [Qubit(QuantumRegister(3, 'q'), 0), Qubit(QuantumRegister(3, 'q'), 2)], []), (<qiskit.circuit.library.standard_gates.t.TGate object at 0x000002430AFD6130>, [Qubit(QuantumRegister(3, 'q'), 2)], []), (<qiskit.circuit.library.standard_gates.x.CXGate object at 0x000002430AFD64C0>, [Qubit(QuantumRegister(3, 'q'), 1), Qubit(QuantumRegister(3, 'q'), 2)], []), (<qiskit.circuit.library.standard_gates.t.TdgGate object at 0x000002430B453250>, [Qubit(QuantumRegister(3, 'q'), 2)], []), (<qiskit.circuit.library.standard_gates.x.CXGate object at 0x000002430BCB0EE0>, [Qubit(QuantumRegister(3, 'q'), 0), Qubit(QuantumRegister(3, 'q'), 2)], []), (<qiskit.circuit.library.standard_gates.t.TGate object at 0x000002430A915E50>, [Qubit(QuantumRegister(3, 'q'), 1)], []), (<qiskit.circuit.library.standard_gates.t.TGate object at 0x000002430A915160>, [Qubit(QuantumRegister(3, 'q'), 2)], []), (<qiskit.circuit.library.standard_gates.h.HGate object at 0x000002430A915D60>, [Qubit(QuantumRegister(3, 'q'), 2)], []), (<qiskit.circuit.library.standard_gates.x.CXGate object at 0x000002430A9152E0>, [Qubit(QuantumRegister(3, 'q'), 0), Qubit(QuantumRegister(3, 'q'), 1)], []), (<qiskit.circuit.library.standard_gates.t.TGate object at 0x000002430BB2B610>, [Qubit(QuantumRegister(3, 'q'), 0)], []), (<qiskit.circuit.library.standard_gates.t.TdgGate object at 0x0000024307790CA0>, [Qubit(QuantumRegister(3, 'q'), 1)], []), (<qiskit.circuit.library.standard_gates.x.CXGate object at 0x0000024307790B50>, [Qubit(QuantumRegister(3, 'q'), 0), Qubit(QuantumRegister(3, 'q'), 1)], [])]\n"
     ]
    }
   ],
   "source": [
    "# standard gates \n",
    "# from numpy import Matrix\n",
    "from qiskit.circuit.library import CCXGate, HGate\n",
    "_h = HGate(label='H')\n",
    "_ccx = CCXGate(label='ccx')\n",
    "\n",
    "print(_ccx.to_matrix())\n",
    "print(_ccx.definition)\n"
   ]
  },
  {
   "cell_type": "code",
   "execution_count": 285,
   "metadata": {},
   "outputs": [
    {
     "name": "stdout",
     "output_type": "stream",
     "text": [
      "[[ 0.70710678+0.j  0.70710678+0.j]\n",
      " [ 0.70710678+0.j -0.70710678+0.j]]\n",
      "[(<qiskit.circuit.library.standard_gates.u2.U2Gate object at 0x000002430A5FC490>, [Qubit(QuantumRegister(1, 'q'), 0)], [])]\n"
     ]
    }
   ],
   "source": [
    "print(_h.to_matrix())\n",
    "print(_h.definition)\n"
   ]
  },
  {
   "cell_type": "markdown",
   "metadata": {
    "slideshow": {
     "slide_type": "slide"
    }
   },
   "source": [
    "# Examples of Circuit Library usage\n",
    "\n",
    "### *Using Boolean Logic Circuit*"
   ]
  },
  {
   "cell_type": "code",
   "execution_count": 37,
   "metadata": {
    "slideshow": {
     "slide_type": "subslide"
    }
   },
   "outputs": [],
   "source": [
    "# using the OR circuit\n",
    "from qiskit.circuit.library import OR\n",
    "import qiskit.tools.jupyter\n",
    "\n",
    "# A circuit implementing the logical OR operation on a number of qubits (2)\n",
    "circuit_or = OR(2)"
   ]
  },
  {
   "cell_type": "code",
   "execution_count": 38,
   "metadata": {
    "slideshow": {
     "slide_type": "subslide"
    }
   },
   "outputs": [
    {
     "data": {
      "application/vnd.jupyter.widget-view+json": {
       "model_id": "88e4e2f0c966475ca8db0443ebefd81f",
       "version_major": 2,
       "version_minor": 0
      },
      "text/plain": [
       "VBox(children=(Box(children=(Output(layout=Layout(height='auto', max_height='1000px', overflow='hidden scroll'…"
      ]
     },
     "metadata": {},
     "output_type": "display_data"
    }
   ],
   "source": [
    "# get informations relative to the circuit_or\n",
    "%circuit_library_info circuit_or"
   ]
  },
  {
   "cell_type": "code",
   "execution_count": 39,
   "metadata": {
    "slideshow": {
     "slide_type": "subslide"
    }
   },
   "outputs": [
    {
     "data": {
      "application/vnd.jupyter.widget-view+json": {
       "model_id": "d2e2b350f2f7412d804cf25cbbd9f08e",
       "version_major": 2,
       "version_minor": 0
      },
      "text/plain": [
       "VBox(children=(Box(children=(Output(layout=Layout(height='auto', max_height='1000px', overflow='hidden scroll'…"
      ]
     },
     "metadata": {},
     "output_type": "display_data"
    }
   ],
   "source": [
    "# decompose the circuit one level \n",
    "%circuit_library_info circuit_or.decompose()"
   ]
  },
  {
   "cell_type": "code",
   "execution_count": 45,
   "metadata": {
    "slideshow": {
     "slide_type": "subslide"
    }
   },
   "outputs": [
    {
     "data": {
      "application/vnd.jupyter.widget-view+json": {
       "model_id": "dc15b121172d426e9b812ed81f3b8f44",
       "version_major": 2,
       "version_minor": 0
      },
      "text/plain": [
       "VBox(children=(Box(children=(Output(layout=Layout(height='auto', max_height='1000px', overflow='hidden scroll'…"
      ]
     },
     "metadata": {},
     "output_type": "display_data"
    }
   ],
   "source": [
    "# A circuit implementing the logical XOR operation on a number of qubits (2)\n",
    "from qiskit.circuit.library import XOR\n",
    "circuit_xor = XOR(2, 3) # 3 is the XOR amount \n",
    "%circuit_library_info circuit_xor\n"
   ]
  },
  {
   "cell_type": "code",
   "execution_count": 25,
   "metadata": {
    "slideshow": {
     "slide_type": "subslide"
    }
   },
   "outputs": [
    {
     "data": {
      "application/vnd.jupyter.widget-view+json": {
       "model_id": "d852b17062484882bfa101221d80304f",
       "version_major": 2,
       "version_minor": 0
      },
      "text/plain": [
       "VBox(children=(Box(children=(Output(layout=Layout(height='auto', max_height='1000px', overflow='hidden scroll'…"
      ]
     },
     "metadata": {},
     "output_type": "display_data"
    }
   ],
   "source": [
    "# A circuit implementing the logical AND operation on a number of qubits (2)\n",
    "from qiskit.circuit.library import AND\n",
    "circuit_and = AND(2)\n",
    "%circuit_library_info circuit_and"
   ]
  },
  {
   "cell_type": "markdown",
   "metadata": {
    "slideshow": {
     "slide_type": "slide"
    }
   },
   "source": [
    "### *You can compose your circuit with those objects* "
   ]
  },
  {
   "cell_type": "code",
   "execution_count": 96,
   "metadata": {
    "slideshow": {
     "slide_type": "subslide"
    }
   },
   "outputs": [
    {
     "data": {
      "image/png": "[encoded data removed]",
      "text/plain": [
       "<Figure size 494.844x204.68 with 1 Axes>"
      ]
     },
     "execution_count": 96,
     "metadata": {},
     "output_type": "execute_result"
    }
   ],
   "source": [
    "# compose circuit_or and circuit_and\n",
    "my_circuit = circuit_or.compose(circuit_and)\n",
    "my_circuit.draw(output = 'mpl')\n"
   ]
  },
  {
   "cell_type": "code",
   "execution_count": 97,
   "metadata": {
    "slideshow": {
     "slide_type": "subslide"
    }
   },
   "outputs": [
    {
     "data": {
      "image/png": "[encoded data removed]",
      "text/plain": [
       "<Figure size 555.044x204.68 with 1 Axes>"
      ]
     },
     "execution_count": 97,
     "metadata": {},
     "output_type": "execute_result"
    }
   ],
   "source": [
    "# add circuit_xor to the circuit\n",
    "my_circuit.compose(circuit_xor).draw(output='mpl')"
   ]
  },
  {
   "cell_type": "markdown",
   "metadata": {
    "slideshow": {
     "slide_type": "slide"
    }
   },
   "source": [
    "# Examples of Circuit Library usage\n",
    "### *Using Generalized gates*"
   ]
  },
  {
   "cell_type": "code",
   "execution_count": 134,
   "metadata": {
    "slideshow": {
     "slide_type": "subslide"
    }
   },
   "outputs": [
    {
     "data": {
      "image/png": "[encoded data removed]",
      "text/plain": [
       "<Figure size 238.392x204.68 with 1 Axes>"
      ]
     },
     "execution_count": 134,
     "metadata": {},
     "output_type": "execute_result"
    }
   ],
   "source": [
    "# example of a multi-controlled NOT gate\n",
    "from qiskit.circuit.library import MCMT\n",
    "circuit=MCMT('x', 2, 1)\n",
    "circuit.draw(output='mpl')"
   ]
  },
  {
   "cell_type": "code",
   "execution_count": 163,
   "metadata": {
    "slideshow": {
     "slide_type": "subslide"
    }
   },
   "outputs": [
    {
     "data": {
      "image/png": "[encoded data removed]",
      "text/plain": [
       "<Figure size 260.064x204.68 with 1 Axes>"
      ]
     },
     "execution_count": 163,
     "metadata": {},
     "output_type": "execute_result"
    }
   ],
   "source": [
    "# Or using the standard ccx gate or the toffoli \n",
    "from qiskit import QuantumCircuit, QuantumRegister\n",
    "qr = QuantumRegister(3)\n",
    "qc = QuantumCircuit(qr)\n",
    "\n",
    "# qc.ccx(q[0],q[1], q[2])\n",
    "\n",
    "qc.toffoli(qr[0],qr[1], qr[2])\n",
    "\n",
    "qc.draw(output='mpl')"
   ]
  },
  {
   "cell_type": "markdown",
   "metadata": {
    "slideshow": {
     "slide_type": "slide"
    }
   },
   "source": [
    "# Examples of Circuit Library usage\n",
    "\n",
    "### *Using Pauli Rotations and Real Amplitudes*"
   ]
  },
  {
   "cell_type": "code",
   "execution_count": 292,
   "metadata": {
    "slideshow": {
     "slide_type": "subslide"
    }
   },
   "outputs": [
    {
     "data": {
      "image/png": "[encoded data removed]",
      "text/plain": [
       "<Figure size 1369.12x584.8 with 2 Axes>"
      ]
     },
     "metadata": {},
     "output_type": "display_data"
    }
   ],
   "source": [
    "from qiskit.circuit.library import LinearPauliRotations, RealAmplitudes\n",
    "import matplotlib.pyplot as plt\n",
    "fig, ax = plt.subplots(nrows=1, ncols=2)\n",
    "\n",
    "# Create a new linear rotation circuit\n",
    "pauli_rotations = LinearPauliRotations(3, offset=1, slope=2)\n",
    "\n",
    "# The `RealAmplitudes` circuit is a heuristic trial wave function used as Ansatz in\n",
    "# chemistry applications or classification circuits in machine learning. \n",
    "# The circuit consists of alternating layers of `Y` rotations and `CX` entanglements.\n",
    "wavefunction = RealAmplitudes(3, reps=1)\n",
    "\n",
    "# draw of the circuits \n",
    "pauli_rotations.draw(output='mpl', ax=ax[0])\n",
    "wavefunction.draw(output='mpl',scale=2,  ax=ax[1])"
   ]
  },
  {
   "cell_type": "markdown",
   "metadata": {
    "slideshow": {
     "slide_type": "slide"
    }
   },
   "source": [
    "# Examples of Circuit Library usage\n",
    "### *Basis Change Circuits*\n"
   ]
  },
  {
   "cell_type": "code",
   "execution_count": 269,
   "metadata": {
    "slideshow": {
     "slide_type": "fragment"
    }
   },
   "outputs": [],
   "source": [
    "# Quantum Fourier Transform \n",
    "from qiskit.circuit.library import QFT\n",
    "qft = QFT(3, insert_barriers=True)\n"
   ]
  },
  {
   "cell_type": "code",
   "execution_count": 270,
   "metadata": {
    "slideshow": {
     "slide_type": "fragment"
    }
   },
   "outputs": [
    {
     "name": "stdout",
     "output_type": "stream",
     "text": [
      "Operations: OrderedDict([('h', 3), ('cu1', 3), ('barrier', 3), ('swap', 1)])\n",
      "Depth: 7 width: 3\n"
     ]
    }
   ],
   "source": [
    "print('Operations:', qft.count_ops())\n",
    "print('Depth:', qft.depth(), 'width:', qft.width())\n"
   ]
  },
  {
   "cell_type": "markdown",
   "metadata": {},
   "source": [
    "### *These objects are circuits!*"
   ]
  },
  {
   "cell_type": "code",
   "execution_count": 271,
   "metadata": {
    "scrolled": true,
    "slideshow": {
     "slide_type": "fragment"
    }
   },
   "outputs": [
    {
     "data": {
      "image/png": "[encoded data removed]",
      "text/plain": [
       "<Figure size 971.628x204.68 with 1 Axes>"
      ]
     },
     "execution_count": 271,
     "metadata": {},
     "output_type": "execute_result"
    }
   ],
   "source": [
    "qft.inverse().draw(output='mpl')"
   ]
  },
  {
   "cell_type": "code",
   "execution_count": 266,
   "metadata": {
    "slideshow": {
     "slide_type": "slide"
    }
   },
   "outputs": [
    {
     "data": {
      "image/png": "[encoded data removed]",
      "text/plain": [
       "<Figure size 1092.03x204.68 with 1 Axes>"
      ]
     },
     "execution_count": 266,
     "metadata": {},
     "output_type": "execute_result"
    }
   ],
   "source": [
    "qft.x(0)\n",
    "qft.cswap(0, 1, 2)\n",
    "qft.draw(output='mpl')"
   ]
  },
  {
   "cell_type": "code",
   "execution_count": 275,
   "metadata": {
    "slideshow": {
     "slide_type": "fragment"
    }
   },
   "outputs": [
    {
     "data": {
      "image/png": "[encoded data removed]",
      "text/plain": [
       "<Figure size 1092.03x144.48 with 1 Axes>"
      ]
     },
     "execution_count": 275,
     "metadata": {},
     "output_type": "execute_result"
    }
   ],
   "source": [
    "my_circuit = QFT(2).compose(RealAmplitudes(2)).compose(OR(1))\n",
    "my_circuit.draw(output='mpl')"
   ]
  },
  {
   "cell_type": "markdown",
   "metadata": {},
   "source": [
    "# Algorithm Workflow "
   ]
  },
  {
   "cell_type": "markdown",
   "metadata": {
    "slideshow": {
     "slide_type": "slide"
    }
   },
   "source": [
    "![img](./algorithm_flow.png)"
   ]
  },
  {
   "cell_type": "markdown",
   "metadata": {},
   "source": [
    "### *what moved to the Circuit Library*"
   ]
  },
  {
   "cell_type": "markdown",
   "metadata": {},
   "source": [
    "![img](./what_moved.png)"
   ]
  },
  {
   "attachments": {
    "image.png": {
     "image/png": "[encoded data removed]"
    }
   },
   "cell_type": "markdown",
   "metadata": {},
   "source": [
    "## *Now it's your turn to play!*\n",
    "<div class=\"alert alert-block alert-info\">\n",
    "<b>Note:</b>\n",
    "Here's a challenge for you: Implement the circuit below using the Circuit Library gates. \n",
    "    \n",
    "  - Note: the \"Control R\" gates are \"Control Phase shift\" gates\n",
    "</div>\n",
    "\n",
    "![image.png](attachment:image.png)"
   ]
  },
  {
   "cell_type": "markdown",
   "metadata": {},
   "source": [
    "<div class=\"alert alert-success\">\n",
    "<b>Challenge solution</b>"
   ]
  },
  {
   "cell_type": "code",
   "execution_count": 29,
   "metadata": {},
   "outputs": [
    {
     "data": {
      "image/png": "[encoded data removed]",
      "text/plain": [
       "<Figure size 801.864x204.68 with 1 Axes>"
      ]
     },
     "execution_count": 29,
     "metadata": {},
     "output_type": "execute_result"
    }
   ],
   "source": [
    "# The circuit represents a Quantum Fourier Transform. \n",
    "# Pretty easy to implement using Circuit Library from Qiskit \n",
    "import numpy as np\n",
    "from qiskit import QuantumCircuit\n",
    "from qiskit.circuit.library import QFT\n",
    "\n",
    "qft = QFT(3, insert_barriers=False)\n",
    "\n",
    "qft.draw(output='mpl')"
   ]
  },
  {
   "cell_type": "code",
   "execution_count": 36,
   "metadata": {},
   "outputs": [
    {
     "data": {
      "text/html": [
       "<pre style=\"word-wrap: normal;white-space: pre;background: #fff0;line-height: 1.1;font-family: &quot;Courier New&quot;,Courier,monospace\">                           \n",
       "q_0: ──■────────────────■──\n",
       "     ┌─┴─┐┌──────────┐┌─┴─┐\n",
       "q_1: ┤ X ├┤ U1(pi/4) ├┤ X ├\n",
       "     └───┘└──────────┘└───┘\n",
       "q_2: ──────────────────────\n",
       "                           </pre>"
      ],
      "text/plain": [
       "                           \n",
       "q_0: ──■────────────────■──\n",
       "     ┌─┴─┐┌──────────┐┌─┴─┐\n",
       "q_1: ┤ X ├┤ U1(pi/4) ├┤ X ├\n",
       "     └───┘└──────────┘└───┘\n",
       "q_2: ──────────────────────\n",
       "                           "
      ]
     },
     "execution_count": 36,
     "metadata": {},
     "output_type": "execute_result"
    }
   ],
   "source": [
    "# The control U1 gate can be decomposed in CNOT and U1 gates\n",
    "circuit = QuantumCircuit(3)\n",
    "circuit.cx(0,1)\n",
    "circuit.u1(np.pi/4, 1)\n",
    "circuit.cx(0,1)\n",
    "circuit.draw()"
   ]
  },
  {
   "cell_type": "code",
   "execution_count": 30,
   "metadata": {},
   "outputs": [
    {
     "data": {
      "image/png": "[encoded data removed]",
      "text/plain": [
       "<Figure size 1403.86x204.68 with 1 Axes>"
      ]
     },
     "execution_count": 30,
     "metadata": {},
     "output_type": "execute_result"
    }
   ],
   "source": [
    "qft.inverse().decompose().draw(output='mpl')"
   ]
  }
 ],
 "metadata": {
  "celltoolbar": "Slideshow",
  "kernelspec": {
   "display_name": "Python 3",
   "language": "python",
   "name": "python3"
  },
  "language_info": {
   "codemirror_mode": {
    "name": "ipython",
    "version": 3
   },
   "file_extension": ".py",
   "mimetype": "text/x-python",
   "name": "python",
   "nbconvert_exporter": "python",
   "pygments_lexer": "ipython3",
   "version": "3.8.2"
  }
 },
 "nbformat": 4,
 "nbformat_minor": 2
}
