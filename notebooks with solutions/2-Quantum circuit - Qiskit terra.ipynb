{
 "cells": [
  {
   "cell_type": "markdown",
   "metadata": {
    "slideshow": {
     "slide_type": "slide"
    }
   },
   "source": [
    "# Using Qiskit Terra\n"
   ]
  },
  {
   "cell_type": "markdown",
   "metadata": {
    "slideshow": {
     "slide_type": "fragment"
    }
   },
   "source": [
    "Qiskit Terra contains tools that **define**, **compile** and **execute** quantum circuits on arbitrary **backends**.\n",
    "It allows users to manipulate qubits by using gates and even construct circuits at the level of **pulses**"
   ]
  },
  {
   "cell_type": "markdown",
   "metadata": {},
   "source": [
    "## *Constructing a quantum circuit*"
   ]
  },
  {
   "cell_type": "markdown",
   "metadata": {
    "slideshow": {
     "slide_type": "fragment"
    }
   },
   "source": [
    "In Qiskit the circuits are represented by **QuantumCircuit** class. Below is an example that generates a Belll state:\n",
    "\n",
    "$$|\\psi\\rangle = \\left(|00\\rangle+|11\\rangle\\right)/\\sqrt{2}$$\n"
   ]
  },
  {
   "cell_type": "code",
   "execution_count": 2,
   "metadata": {
    "slideshow": {
     "slide_type": "slide"
    }
   },
   "outputs": [],
   "source": [
    "# Import required fuctions from qiskit\n",
    "from qiskit import QuantumCircuit"
   ]
  },
  {
   "cell_type": "code",
   "execution_count": 3,
   "metadata": {},
   "outputs": [
    {
     "data": {
      "text/plain": [
       "<qiskit.circuit.instructionset.InstructionSet at 0x27c9dda4190>"
      ]
     },
     "execution_count": 3,
     "metadata": {},
     "output_type": "execute_result"
    }
   ],
   "source": [
    "bell = QuantumCircuit(2, 2)  # QuantumCircuit(2, 2) # A QuantumCircuit with 2 qubits and 2 classical bits\n",
    "\n",
    "bell.h(0)                    # bell.h(qr[0])\n",
    "bell.cx(0, 1)                # bell.cx(qr[0], qr[1])\n",
    "bell.measure([0,1], [0,1])   # Measure\n",
    "bell.draw(output='mpl')"
   ]
  },
  {
   "cell_type": "markdown",
   "metadata": {},
   "source": [
    "## *Creating circuits examples*"
   ]
  },
  {
   "cell_type": "code",
   "execution_count": 4,
   "metadata": {},
   "outputs": [],
   "source": [
    "# Construct a 5-qubit GHZ circuit.\n",
    "from qiskit import QuantumCircuit\n",
    "\n",
    "qc = QuantumCircuit(5)\n",
    "qc.h(0)\n",
    "qc.cx(0, range(1, 5))\n",
    "qc.measure_all()\n",
    "qc.draw(output='mpl')"
   ]
  },
  {
   "cell_type": "code",
   "execution_count": 5,
   "metadata": {},
   "outputs": [
    {
     "data": {
      "text/plain": [
       "<qiskit.circuit.instructionset.InstructionSet at 0x27c9dda41f0>"
      ]
     },
     "execution_count": 5,
     "metadata": {},
     "output_type": "execute_result"
    }
   ],
   "source": [
    "# Construct a 4-qubit Berstein-Vazirani circuit using registers.\n",
    "from qiskit import QuantumRegister, ClassicalRegister, QuantumCircuit\n",
    "\n",
    "qc = QuantumCircuit(4,3)\n",
    "qc.x(3)\n",
    "qc.h(3)\n",
    "qc.h(range(3))\n",
    "qc.cx(range(3), 3)\n",
    "qc.h(range(3))\n",
    "qc.barrier(range(3))\n",
    "qc.measure(range(3), range(3))\n",
    "\n",
    "qc.draw(output='mpl')\n"
   ]
  },
  {
   "cell_type": "markdown",
   "metadata": {
    "slideshow": {
     "slide_type": "fragment"
    }
   },
   "source": [
    "Additional gates can be found in our qiskit tutorials on Github<br/>\n",
    "[List of quantum operations](https://github.com/Qiskit/qiskit-tutorials/blob/master/tutorials/circuits/3_summary_of_quantum_operations.ipynb)"
   ]
  },
  {
   "cell_type": "code",
   "execution_count": 6,
   "metadata": {
    "slideshow": {
     "slide_type": "fragment"
    }
   },
   "outputs": [],
   "source": [
    "# Get the qasm\n",
    "print(bell.qasm())"
   ]
  },
  {
   "cell_type": "code",
   "execution_count": 8,
   "metadata": {},
   "outputs": [],
   "source": [
    "# Circuit can be created using qasm() code string\n",
    "\n",
    "qasm_string= '''\n",
    "OPENQASM 2.0;\n",
    "include \"qelib1.inc\";\n",
    "qreg q[2];\n",
    "creg c[2];\n",
    "h q[0];\n",
    "cx q[0],q[1];\n",
    "measure q[0] -> c[0];\n",
    "measure q[1] -> c[1];\n",
    "'''"
   ]
  },
  {
   "cell_type": "code",
   "execution_count": 9,
   "metadata": {},
   "outputs": [],
   "source": [
    "# create the circuit from qasm string \n",
    "circuit = QuantumCircuit.from_qasm_str(qasm_string)\n",
    "circuit.draw(output='mpl')"
   ]
  },
  {
   "cell_type": "markdown",
   "metadata": {
    "slideshow": {
     "slide_type": "slide"
    }
   },
   "source": [
    "## *Executing the circuit on a simulator backend*"
   ]
  },
  {
   "cell_type": "code",
   "execution_count": 10,
   "metadata": {
    "slideshow": {
     "slide_type": "fragment"
    }
   },
   "outputs": [],
   "source": [
    "from qiskit import Aer, execute\n",
    "\n",
    "# pick a backend, in this case a simulator\n",
    "backend = Aer.get_backend('qasm_simulator')\n",
    "\n",
    "# start a simulation job on the backend\n",
    "job = execute(circuit, backend, shots=1000)\n",
    "\n",
    "# collect the job results and display them\n",
    "result = job.result()\n",
    "counts = result.get_counts(circuit)\n",
    "print(counts)"
   ]
  },
  {
   "cell_type": "code",
   "execution_count": 11,
   "metadata": {
    "slideshow": {
     "slide_type": "fragment"
    }
   },
   "outputs": [],
   "source": [
    "# plot the distribution probabilities\n",
    "from qiskit.tools.visualization import plot_histogram\n",
    "plot_histogram(counts)"
   ]
  },
  {
   "cell_type": "markdown",
   "metadata": {
    "slideshow": {
     "slide_type": "slide"
    }
   },
   "source": [
    "## *Executing the circuit on a real device*"
   ]
  },
  {
   "cell_type": "code",
   "execution_count": 12,
   "metadata": {
    "slideshow": {
     "slide_type": "slide"
    }
   },
   "outputs": [
    {
     "data": {
      "text/plain": [
       "<AccountProvider for IBMQ(hub='ibm-q', group='open', project='main')>"
      ]
     },
     "execution_count": 12,
     "metadata": {},
     "output_type": "execute_result"
    }
   ],
   "source": [
    "from qiskit import IBMQ\n",
    "\n",
    "# load your account\n",
    "IBMQ.load_account()\n",
    "\n",
    "# set your provider \n",
    "# provider=IBMQ.get_provider(hub='<your hub>', project='<your project>', group='<your group')\n",
    "\n",
    "provider=IBMQ.get_provider(hub='ibm-q-internal', project='core-team', group='support')\n"
   ]
  },
  {
   "cell_type": "code",
   "execution_count": 48,
   "metadata": {},
   "outputs": [],
   "source": [
    "# print only the real backends of your provider and those with a number of qubits greater than 1\n",
    "\n",
    "from qiskit import IBMQ\n",
    "backends=list(filter(lambda device:device.configuration().num_qubits>1, provider.backends(simulator=False)))\n"
   ]
  },
  {
   "cell_type": "code",
   "execution_count": 49,
   "metadata": {
    "slideshow": {
     "slide_type": "fragment"
    }
   },
   "outputs": [
    {
     "name": "stdout",
     "output_type": "stream",
     "text": [
      "The least busy backend is:  ibmq_valencia\n",
      "Job Status: job has successfully run\n",
      "{'11': 445, '10': 22, '00': 510, '01': 23}\n"
     ]
    }
   ],
   "source": [
    "from qiskit.providers.ibmq import least_busy\n",
    "backends = list(filter(lambda device:device.configuration().num_qubits>1, provider.backends(simulator=False)))\n",
    "backend = least_busy(backends)\n",
    "print('The least busy backend is: ', backend.name())\n",
    "\n",
    "# start a job on the backend\n",
    "job = execute(circuit, backend, shots=1000)\n",
    "\n",
    "# monitor the job\n",
    "from qiskit.tools.monitor import job_monitor\n",
    "job_monitor(job)\n",
    "\n",
    "# collect the job results and display them\n",
    "result = job.result()\n",
    "counts = result.get_counts(circuit)\n",
    "print(counts)"
   ]
  },
  {
   "cell_type": "code",
   "execution_count": 50,
   "metadata": {},
   "outputs": [
    {
     "data": {
      "image/png": "[encoded data removed]",
      "text/plain": [
       "<Figure size 504x360 with 1 Axes>"
      ]
     },
     "execution_count": 50,
     "metadata": {},
     "output_type": "execute_result"
    }
   ],
   "source": [
    "plot_histogram(counts)"
   ]
  },
  {
   "attachments": {
    "image.png": {
     "image/png": "[encoded data removed]"
    }
   },
   "cell_type": "markdown",
   "metadata": {},
   "source": [
    "## *Now it's your turn to play!*\n",
    "<div class=\"alert alert-block alert-info\">\n",
    "<b>Note:</b>\n",
    "Here's the first challenge for you: In the following cells, create a GHZ (Greenberger, Horne and Zeilinger) circuit, to produce a three maximally entangled quantum states \n",
    "</div>\n",
    "\n",
    "![image.png](attachment:image.png)"
   ]
  },
  {
   "cell_type": "code",
   "execution_count": null,
   "metadata": {},
   "outputs": [],
   "source": [
    "# Create the QuantumCircuit \"qhz\" \n",
    "\n",
    "                 \n",
    "# Add gates \n",
    "\n",
    "\n",
    "# Add measure (all qubits)\n",
    "\n",
    "\n",
    "# Draw the circuit \n"
   ]
  },
  {
   "cell_type": "code",
   "execution_count": null,
   "metadata": {},
   "outputs": [],
   "source": [
    "# execute your circuit using your primary backend \"ibmq_singapore\" \n",
    "\n",
    "\n",
    "# monitor the job \n",
    "\n",
    "\n",
    "# collect the job results and display them\n"
   ]
  },
  {
   "cell_type": "markdown",
   "metadata": {},
   "source": [
    "## *Circuits operations*"
   ]
  },
  {
   "cell_type": "markdown",
   "metadata": {},
   "source": [
    "### *Addition of circuits*"
   ]
  },
  {
   "cell_type": "code",
   "execution_count": 14,
   "metadata": {},
   "outputs": [],
   "source": [
    "# You can combine differents circuits into one. But they have to share the same amount of registers\n",
    "\n",
    "circuit1 = QuantumCircuit(3,3)\n",
    "circuit1.h(0)\n",
    "circuit1.x(1)\n",
    "\n",
    "circuit2 = QuantumCircuit(3,3)\n",
    "circuit2.cx(0,2)\n",
    "\n",
    "circuit3 = QuantumCircuit(3,3)\n",
    "circuit3.measure(range(3),range(3))\n",
    "\n",
    "full_circuit=circuit1+circuit2+circuit3\n",
    "\n",
    "# draw the circuits \n",
    "import matplotlib.pyplot as plt\n",
    "fig, ax = plt.subplots(nrows=1, ncols=4)\n",
    "\n",
    "circuit1.draw(output='mpl',scale=2, ax=ax[0])\n",
    "circuit2.draw(output='mpl',scale=2, ax=ax[1])\n",
    "circuit3.draw(output='mpl',scale=2,  ax=ax[2])\n",
    "full_circuit.draw(output='mpl',scale=2, ax=ax[3])"
   ]
  },
  {
   "cell_type": "markdown",
   "metadata": {},
   "source": [
    "### *Compose circuit with ``other`` circuit or instruction*"
   ]
  },
  {
   "cell_type": "code",
   "execution_count": 15,
   "metadata": {},
   "outputs": [
    {
     "data": {
      "text/plain": [
       "<qiskit.circuit.instructionset.InstructionSet at 0x27c9f4aff10>"
      ]
     },
     "execution_count": 15,
     "metadata": {},
     "output_type": "execute_result"
    }
   ],
   "source": [
    "# It's possible to compose circuits in qiskit\n",
    "big_circ=QuantumCircuit(4)\n",
    "big_circ.h(0)\n",
    "big_circ.x(2)\n",
    "big_circ.cx(0,1)\n",
    "big_circ.cx(2,3)\n",
    "\n",
    "\n",
    "sub_circ = QuantumCircuit(3, name='sub_circ') #The second circuit must have the same or less amount of qubits\n",
    "sub_circ.h(0)\n",
    "sub_circ.ccx(0,1,2)\n",
    "sub_circ.barrier()\n",
    "sub_circ.id(1)\n",
    "sub_circ.u3(1, 2, -2, 0)\n",
    "\n",
    "fig, ax = plt.subplots(nrows=1, ncols=2)\n",
    "big_circ.draw(output='mpl', ax=ax[0])\n",
    "sub_circ.draw(output='mpl',scale=2, ax=ax[1])\n"
   ]
  },
  {
   "cell_type": "markdown",
   "metadata": {},
   "source": [
    "###  *We compose a full circuit from the big_circ and the sub_circ circuits*"
   ]
  },
  {
   "cell_type": "code",
   "execution_count": 16,
   "metadata": {},
   "outputs": [],
   "source": [
    "full_circ = big_circ.compose(sub_circ, [1,2,3]) # specify which qubits in the big circuit to add the sub circuit\n",
    "\n",
    "full_circ.draw(output='mpl')"
   ]
  },
  {
   "cell_type": "markdown",
   "metadata": {},
   "source": [
    "###  *We can also create a circuit by appending directly a circuit to an existing one*"
   ]
  },
  {
   "cell_type": "code",
   "execution_count": 17,
   "metadata": {},
   "outputs": [
    {
     "data": {
      "text/plain": [
       "<qiskit.circuit.instructionset.InstructionSet at 0x27c9f4c7940>"
      ]
     },
     "execution_count": 17,
     "metadata": {},
     "output_type": "execute_result"
    }
   ],
   "source": [
    "# You can also append directly the sub circuit to the big circuit\n",
    "big_circ.append(sub_circ, [1,2,3])\n",
    "\n",
    "big_circ.draw(output='mpl')"
   ]
  },
  {
   "cell_type": "markdown",
   "metadata": {},
   "source": [
    "###  *You can visualize the overall circuit gates by decomposing it*"
   ]
  },
  {
   "cell_type": "code",
   "execution_count": 18,
   "metadata": {},
   "outputs": [],
   "source": [
    "# To visualize the full circuit you have to decompose it\n",
    "# note the decomposition of the Hadamard and Not gates into U2 and U3 gates\n",
    "big_circ.decompose().draw(output='mpl')"
   ]
  },
  {
   "cell_type": "markdown",
   "metadata": {},
   "source": [
    "## *Now it's your turn to play!*\n",
    "<div class=\"alert alert-block alert-info\">\n",
    "<b>Note:</b>\n",
    "Here's the second challenge for you: Qiskit Terra gives the possibility to create a unitary gate out of a quantum circuit. The result is then a composite gate encapsulating this circuit. \n",
    "Consider the circuit below: \n",
    "\n",
    "\n",
    "  - Convert that circuit into a gate (refer to https://qiskit.org/documentation/stubs/qiskit.circuit.QuantumCircuit.to_gate.html)\n",
    "  - Add that gate to a Quantum Circuit (you must create first a QuantumCircuit)\n",
    "       - Create a new QuantumCircuit (you must create first a QuantumCircuit because you cannot draw a gate without a circuit)\n",
    "       - Append the gate to your QuantumCircuit \n",
    "  - Draw that circuit \n",
    "  - Decompose that circuit one level and draw the decomposition\n",
    "    \n",
    "    \n",
    " </div>\n",
    "\n"
   ]
  },
  {
   "cell_type": "code",
   "execution_count": 20,
   "metadata": {},
   "outputs": [
    {
     "data": {
      "image/png": "[encoded data removed]",
      "text/plain": [
       "<Figure size 418.992x204.68 with 1 Axes>"
      ]
     },
     "execution_count": 20,
     "metadata": {},
     "output_type": "execute_result"
    }
   ],
   "source": [
    "from qiskit import QuantumCircuit\n",
    "\n",
    "simple_circ=QuantumCircuit(2)\n",
    "simple_circ.h(0)\n",
    "simple_circ.x(1)\n",
    "circuit.draw(output='mpl')"
   ]
  },
  {
   "cell_type": "code",
   "execution_count": null,
   "metadata": {},
   "outputs": [],
   "source": [
    "# Convert that circuit to a gate \n",
    "\n"
   ]
  },
  {
   "cell_type": "code",
   "execution_count": null,
   "metadata": {},
   "outputs": [],
   "source": [
    "# create a new QuantumCircuit and append the gate to that circuit\n"
   ]
  },
  {
   "cell_type": "code",
   "execution_count": null,
   "metadata": {},
   "outputs": [],
   "source": [
    "# draw the circuit \n"
   ]
  },
  {
   "cell_type": "code",
   "execution_count": null,
   "metadata": {},
   "outputs": [],
   "source": [
    "# decompose that circuit one level and draw the decomposition\n"
   ]
  },
  {
   "cell_type": "markdown",
   "metadata": {},
   "source": [
    "<div class=\"alert alert-block alert-info\">\n",
    "<b>Note:</b>\n",
    "Here's the third challenge for you: Qiskit Terra gives the possibility to create a unitary \"controlled gate\" from a circuit. \n",
    "\n",
    "  - Convert the circuit (simple_circ) into a controlled gate (refer to https://qiskit.org/documentation/stubs/qiskit.circuit.QuantumCircuit.to_gate.html)\n",
    "  - Add that controlled gate to a Quantum Circuit (you must create first a QuantumCircuit)\n",
    "       - Create a new QuantumCircuit (you must create first a QuantumCircuit because you cannot draw a gate without a circuit)\n",
    "       - Append the controlled gate to your QuantumCircuit \n",
    "  - Draw that circuit \n",
    "  - Decompose the circuit one level and draw the decomposition "
   ]
  },
  {
   "cell_type": "code",
   "execution_count": null,
   "metadata": {},
   "outputs": [],
   "source": [
    "# create a controlled gate from the circuit (simple_circ)\n",
    "\n"
   ]
  },
  {
   "cell_type": "code",
   "execution_count": null,
   "metadata": {},
   "outputs": [],
   "source": [
    "# create a new QuantumCircuit and append the controlled gate to it \n",
    "\n"
   ]
  },
  {
   "cell_type": "code",
   "execution_count": null,
   "metadata": {},
   "outputs": [],
   "source": [
    "# draw the QuantumCircuit \n",
    "\n"
   ]
  },
  {
   "cell_type": "code",
   "execution_count": null,
   "metadata": {},
   "outputs": [],
   "source": [
    "# decompose one level that circuit and draw the decomposition \n"
   ]
  },
  {
   "cell_type": "markdown",
   "metadata": {},
   "source": [
    "<div class=\"alert alert-success\">\n",
    "<b>Second Challenge solution</b>\n"
   ]
  },
  {
   "cell_type": "code",
   "execution_count": 92,
   "metadata": {},
   "outputs": [
    {
     "name": "stdout",
     "output_type": "stream",
     "text": [
      "<class 'qiskit.circuit.gate.Gate'>\n"
     ]
    }
   ],
   "source": [
    "# convert the circuit to gate\n",
    "\n",
    "my_gate=simple_circ.to_gate()\n",
    "\n",
    "print(type(my_gate))"
   ]
  },
  {
   "cell_type": "code",
   "execution_count": 93,
   "metadata": {},
   "outputs": [
    {
     "data": {
      "text/html": [
       "<pre style=\"word-wrap: normal;white-space: pre;background: #fff0;line-height: 1.1;font-family: &quot;Courier New&quot;,Courier,monospace\">     ┌─────────────┐\n",
       "q_0: ┤0            ├\n",
       "     │  circuit158 │\n",
       "q_1: ┤1            ├\n",
       "     └─────────────┘</pre>"
      ],
      "text/plain": [
       "     ┌─────────────┐\n",
       "q_0: ┤0            ├\n",
       "     │  circuit158 │\n",
       "q_1: ┤1            ├\n",
       "     └─────────────┘"
      ]
     },
     "execution_count": 93,
     "metadata": {},
     "output_type": "execute_result"
    }
   ],
   "source": [
    "# To draw the gate you must create a QuantumCircuit first\n",
    "my_circuit = QuantumCircuit(2)\n",
    "\n",
    "# add the gate to your circuit\n",
    "my_circuit.append(my_gate, [0,1])\n",
    "\n",
    "# draw your circuit\n",
    "my_circuit.draw()"
   ]
  },
  {
   "cell_type": "code",
   "execution_count": 94,
   "metadata": {},
   "outputs": [
    {
     "data": {
      "text/html": [
       "<pre style=\"word-wrap: normal;white-space: pre;background: #fff0;line-height: 1.1;font-family: &quot;Courier New&quot;,Courier,monospace\">     ┌───┐\n",
       "q_0: ┤ H ├\n",
       "     ├───┤\n",
       "q_1: ┤ X ├\n",
       "     └───┘</pre>"
      ],
      "text/plain": [
       "     ┌───┐\n",
       "q_0: ┤ H ├\n",
       "     ├───┤\n",
       "q_1: ┤ X ├\n",
       "     └───┘"
      ]
     },
     "execution_count": 94,
     "metadata": {},
     "output_type": "execute_result"
    }
   ],
   "source": [
    "my_circuit.decompose().draw()"
   ]
  },
  {
   "cell_type": "markdown",
   "metadata": {},
   "source": [
    "<div class=\"alert alert-success\">\n",
    "<b>Third Challenge solution</b>\n"
   ]
  },
  {
   "cell_type": "code",
   "execution_count": 102,
   "metadata": {},
   "outputs": [
    {
     "data": {
      "text/html": [
       "<pre style=\"word-wrap: normal;white-space: pre;background: #fff0;line-height: 1.1;font-family: &quot;Courier New&quot;,Courier,monospace\">                    \n",
       "q_0: ───────■───────\n",
       "     ┌─────┴┼──────┐\n",
       "q_1: ┤0     │      ├\n",
       "     │  circuit179 │\n",
       "q_2: ┤1            ├\n",
       "     └─────────────┘\n",
       "c_0: ═══════════════\n",
       "                    \n",
       "c_1: ═══════════════\n",
       "                    \n",
       "c_2: ═══════════════\n",
       "                    </pre>"
      ],
      "text/plain": [
       "                    \n",
       "q_0: ───────■───────\n",
       "     ┌─────┴┼──────┐\n",
       "q_1: ┤0     │      ├\n",
       "     │  circuit179 │\n",
       "q_2: ┤1            ├\n",
       "     └─────────────┘\n",
       "c_0: ═══════════════\n",
       "                    \n",
       "c_1: ═══════════════\n",
       "                    \n",
       "c_2: ═══════════════\n",
       "                    "
      ]
     },
     "execution_count": 102,
     "metadata": {},
     "output_type": "execute_result"
    }
   ],
   "source": [
    "# create a controlled gate from the original circuit \n",
    "my_controlled_gate=simple_circ.to_gate().control()\n",
    "\n",
    "# create a new circuit and append it the controlled gate\n",
    "my_controlled_circ = QuantumCircuit(3,3)\n",
    "\n",
    "my_controlled_circ.append(my_controlled_gate,[0,1,2]) # first qubit is the control\n",
    "\n",
    "my_controlled_circ.draw()\n",
    "\n"
   ]
  },
  {
   "cell_type": "code",
   "execution_count": 98,
   "metadata": {},
   "outputs": [
    {
     "data": {
      "text/html": [
       "<pre style=\"word-wrap: normal;white-space: pre;background: #fff0;line-height: 1.1;font-family: &quot;Courier New&quot;,Courier,monospace\">     ┌──────────┐                                                             »\n",
       "q_0: ┤ U1(pi/2) ├──■─────────────────────■─────────────────────────────────■──»\n",
       "     ├──────────┤┌─┴─┐┌───────────────┐┌─┴─┐┌───────────┐┌──────────────┐┌─┴─┐»\n",
       "q_1: ┤ U1(pi/2) ├┤ X ├┤ U3(0,0,-pi/2) ├┤ X ├┤ U3(0,0,0) ├┤ U3(pi/4,0,0) ├┤ X ├»\n",
       "     ├──────────┤└───┘└───────────────┘└───┘└───────────┘└──────────────┘└───┘»\n",
       "q_2: ┤ U1(pi/2) ├─────────────────────────────────────────────────────────────»\n",
       "     └──────────┘                                                             »\n",
       "«                           ┌───────┐                        ┌──────────┐     »\n",
       "«q_0: ───────────────────■──┤ U1(0) ├──■─────────────────■───┤ U1(pi/2) ├──■──»\n",
       "«     ┌───────────────┐┌─┴─┐├───────┤┌─┴─┐┌───────────┐┌─┴─┐┌┴──────────┤  │  »\n",
       "«q_1: ┤ U3(-pi/4,0,0) ├┤ X ├┤ U1(0) ├┤ X ├┤ U3(0,0,0) ├┤ X ├┤ U3(0,0,0) ├──┼──»\n",
       "«     └───────────────┘└───┘└───────┘└───┘└───────────┘└───┘└───────────┘┌─┴─┐»\n",
       "«q_2: ───────────────────────────────────────────────────────────────────┤ X ├»\n",
       "«                                                                        └───┘»\n",
       "«                                                                              »\n",
       "«q_0: ───────────────────■─────────────────────────────────■───────────────────»\n",
       "«                        │                                 │                   »\n",
       "«q_1: ───────────────────┼─────────────────────────────────┼───────────────────»\n",
       "«     ┌───────────────┐┌─┴─┐┌───────────┐┌──────────────┐┌─┴─┐┌───────────────┐»\n",
       "«q_2: ┤ U3(0,0,-pi/2) ├┤ X ├┤ U3(0,0,0) ├┤ U3(pi/2,0,0) ├┤ X ├┤ U3(-pi/2,0,0) ├»\n",
       "«     └───────────────┘└───┘└───────────┘└──────────────┘└───┘└───────────────┘»\n",
       "«          ┌───────┐                                    \n",
       "«q_0: ──■──┤ U1(0) ├──■─────────────────■───────────────\n",
       "«       │  └───────┘  │                 │               \n",
       "«q_1: ──┼─────────────┼─────────────────┼───────────────\n",
       "«     ┌─┴─┐┌───────┐┌─┴─┐┌───────────┐┌─┴─┐┌───────────┐\n",
       "«q_2: ┤ X ├┤ U1(0) ├┤ X ├┤ U3(0,0,0) ├┤ X ├┤ U3(0,0,0) ├\n",
       "«     └───┘└───────┘└───┘└───────────┘└───┘└───────────┘</pre>"
      ],
      "text/plain": [
       "     ┌──────────┐                                                             »\n",
       "q_0: ┤ U1(pi/2) ├──■─────────────────────■─────────────────────────────────■──»\n",
       "     ├──────────┤┌─┴─┐┌───────────────┐┌─┴─┐┌───────────┐┌──────────────┐┌─┴─┐»\n",
       "q_1: ┤ U1(pi/2) ├┤ X ├┤ U3(0,0,-pi/2) ├┤ X ├┤ U3(0,0,0) ├┤ U3(pi/4,0,0) ├┤ X ├»\n",
       "     ├──────────┤└───┘└───────────────┘└───┘└───────────┘└──────────────┘└───┘»\n",
       "q_2: ┤ U1(pi/2) ├─────────────────────────────────────────────────────────────»\n",
       "     └──────────┘                                                             »\n",
       "«                           ┌───────┐                        ┌──────────┐     »\n",
       "«q_0: ───────────────────■──┤ U1(0) ├──■─────────────────■───┤ U1(pi/2) ├──■──»\n",
       "«     ┌───────────────┐┌─┴─┐├───────┤┌─┴─┐┌───────────┐┌─┴─┐┌┴──────────┤  │  »\n",
       "«q_1: ┤ U3(-pi/4,0,0) ├┤ X ├┤ U1(0) ├┤ X ├┤ U3(0,0,0) ├┤ X ├┤ U3(0,0,0) ├──┼──»\n",
       "«     └───────────────┘└───┘└───────┘└───┘└───────────┘└───┘└───────────┘┌─┴─┐»\n",
       "«q_2: ───────────────────────────────────────────────────────────────────┤ X ├»\n",
       "«                                                                        └───┘»\n",
       "«                                                                              »\n",
       "«q_0: ───────────────────■─────────────────────────────────■───────────────────»\n",
       "«                        │                                 │                   »\n",
       "«q_1: ───────────────────┼─────────────────────────────────┼───────────────────»\n",
       "«     ┌───────────────┐┌─┴─┐┌───────────┐┌──────────────┐┌─┴─┐┌───────────────┐»\n",
       "«q_2: ┤ U3(0,0,-pi/2) ├┤ X ├┤ U3(0,0,0) ├┤ U3(pi/2,0,0) ├┤ X ├┤ U3(-pi/2,0,0) ├»\n",
       "«     └───────────────┘└───┘└───────────┘└──────────────┘└───┘└───────────────┘»\n",
       "«          ┌───────┐                                    \n",
       "«q_0: ──■──┤ U1(0) ├──■─────────────────■───────────────\n",
       "«       │  └───────┘  │                 │               \n",
       "«q_1: ──┼─────────────┼─────────────────┼───────────────\n",
       "«     ┌─┴─┐┌───────┐┌─┴─┐┌───────────┐┌─┴─┐┌───────────┐\n",
       "«q_2: ┤ X ├┤ U1(0) ├┤ X ├┤ U3(0,0,0) ├┤ X ├┤ U3(0,0,0) ├\n",
       "«     └───┘└───────┘└───┘└───────────┘└───┘└───────────┘"
      ]
     },
     "execution_count": 98,
     "metadata": {},
     "output_type": "execute_result"
    }
   ],
   "source": [
    "# decompose to standard gates\n",
    "my_controlled_circ.decompose().draw()"
   ]
  }
 ],
 "metadata": {
  "kernelspec": {
   "display_name": "Python 3",
   "language": "python",
   "name": "python3"
  },
  "language_info": {
   "codemirror_mode": {
    "name": "ipython",
    "version": 3
   },
   "file_extension": ".py",
   "mimetype": "text/x-python",
   "name": "python",
   "nbconvert_exporter": "python",
   "pygments_lexer": "ipython3",
   "version": "3.8.2"
  }
 },
 "nbformat": 4,
 "nbformat_minor": 2
}
