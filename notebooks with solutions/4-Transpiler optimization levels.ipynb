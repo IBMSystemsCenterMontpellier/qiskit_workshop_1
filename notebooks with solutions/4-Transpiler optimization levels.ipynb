{
 "cells": [
  {
   "cell_type": "markdown",
   "metadata": {
    "slideshow": {
     "slide_type": "slide"
    }
   },
   "source": [
    "# Using Qiskit Terra\n"
   ]
  },
  {
   "cell_type": "markdown",
   "metadata": {
    "slideshow": {
     "slide_type": "fragment"
    }
   },
   "source": [
    "Qiskit Terra contains tools that **define**, **compile** and **execute** quantum circuits on arbitrary **backends**.\n",
    "It allows users to manipulate qubits by using gates and even construct circuits at the level of **pulses**"
   ]
  },
  {
   "cell_type": "code",
   "execution_count": 6,
   "metadata": {
    "slideshow": {
     "slide_type": "slide"
    }
   },
   "outputs": [
    {
     "name": "stderr",
     "output_type": "stream",
     "text": [
      "ibmqfactory.load_account:WARNING:2020-06-05 09:56:07,407: Credentials are already in use. The existing account in the session will be replaced.\n"
     ]
    }
   ],
   "source": [
    "# Import required fuctions from qiskit\n",
    "from qiskit import QuantumRegister, ClassicalRegister, QuantumCircuit, IBMQ\n",
    "from qiskit.compiler import transpile, assemble\n",
    "IBMQ.load_account()\n",
    "provider = IBMQ.get_provider(hub='ibm-q-internal', group='support', project='core-team')\n",
    "backend = provider.backends.ibmq_singapore"
   ]
  },
  {
   "cell_type": "markdown",
   "metadata": {},
   "source": [
    "# Transpiler Optimization levels \n",
    "\n",
    "optimization_level: How much optimization to perform on the circuits.\n",
    "   - Higher levels generate more optimized circuits, at the expense of longer transpilation time.\n",
    "            0: no optimization\n",
    "            1: light optimization\n",
    "            2: heavy optimization\n",
    "            3: even heavier optimization\n",
    "            If ``None``, level 1 will be chosen as default.\n",
    "\n",
    "\n",
    "\n",
    "\n",
    "These optimization levels are provided via \"preset passmanagers\" in Qiskit. These are simple-to-use transpiler pipelines. You can see what each does by inspecting the documentation for those: https://github.com/Qiskit/qiskit-terra/tree/master/qiskit/transpiler/preset_passmanagers\n",
    "\n",
    "Level 0 does no explicit optimization, it will just try to make a circuit runnable by transforming it to match a topology and basis gate set, if necessary.\n",
    "\n",
    "Level 1, 2 and 3 do light, medium and heavy optimization, using a combination of passes, and by configuring the passes to search for better solutions. Typically more optimality comes at the cost of slower transpilation, as it spends more time searching for a good optimization.\n",
    "\n",
    "The difference between level 2 and level 3: \n",
    "   - In level 2 the transpiler does some commutation analysis to see what gates can be collapsed. \n",
    "   - In level 3, in addition to that, it does peep-hole optimization by combining a chain of gates on the same qubits and re-synthesizing them with better cost. Also the routing stage of level 3 is more expensive than level 2 (it has a larger search space, as set by parameters of the StochasticSwap and LookaheadSwap passes).\n",
    "\n",
    "It is important to keep in mind that these are heuristics. It is possible that, for a specific circuit, you will not see much improvement by increasing the level.\n",
    "\n",
    "\n",
    "The optimization level that is chosen impacts the mapping strategies as follow : \n",
    "   - Trivial layout: Map virtual qubits to the same numbered physical qubit on the device, i.e. [0,1,2,3,4] -> [0,1,2,3,4] (default in optimization_level=0).\n",
    "\n",
    "   - Dense layout: Find the sub-graph of the device with same number of qubits as the circuit with the greatest connectivity (default in optimization_level=1).\n",
    "\n",
    "   - Noise adaptive layout: Uses the noise properties of the device, in concert with the circuit properties, to generate the layout with the best noise properties (default in optimization_level=2 and optimization_level=3).\n",
    "\n"
   ]
  },
  {
   "cell_type": "code",
   "execution_count": 79,
   "metadata": {},
   "outputs": [],
   "source": [
    "# from Circuit Library \n",
    "# We Generate a random circuit of arbitrary size and form. \n",
    "# This function will generate a random circuit by randomly selecting gates from the set of standard gates \n",
    "from qiskit.circuit.random import random_circuit\n",
    "\n",
    "circ = random_circuit(5, 5, measure=False)\n",
    "\n",
    "print(circ.count_ops())\n",
    "\n",
    "circ.draw(output='mpl')"
   ]
  },
  {
   "cell_type": "code",
   "execution_count": 80,
   "metadata": {
    "scrolled": true
   },
   "outputs": [],
   "source": [
    "# Let's transpile that circuit. We'll use simgapore as backend \n",
    "# backend: when set, the transpiler options are automatically grabbed from `backend.configuration()` \n",
    "# and `backend.properties()`. If any other option is explicitly set (e.g., ``coupling_map``), it \n",
    "# will override the backend's.\n",
    "\n",
    "tpl_circ = transpile(circ, backend)\n",
    "\n",
    "# count of operations\n",
    "print(tpl_circ.count_ops())\n",
    "\n",
    "# draw the circuit when transpiled\n",
    "tpl_circ.draw(output='mpl', idle_wires=True)\n",
    "\n"
   ]
  },
  {
   "cell_type": "markdown",
   "metadata": {},
   "source": [
    "## *Now it's your turn to play!*\n",
    "<div class=\"alert alert-block alert-info\">\n",
    "<b>Note:</b>\n",
    "Here's a first challenge for you:  \n",
    "    \n",
    "  - Generate a random circuit with 8 qubits and a depth of 10. Add the measure to the circuit\n",
    "  - Tranpile that circuit using the backend 'ibmq_singapore' using different optimization_levels (0, 1, 2 and 3.\n",
    "  - Draw each circuit\n",
    "  - Count operations and depth of each transpiled circuits\n",
    " </div> \n",
    "</div>"
   ]
  },
  {
   "cell_type": "code",
   "execution_count": null,
   "metadata": {},
   "outputs": [],
   "source": [
    "# Generate your random circuit \n",
    "\n",
    "\n"
   ]
  },
  {
   "cell_type": "code",
   "execution_count": null,
   "metadata": {},
   "outputs": [],
   "source": [
    "# transpile your circuit using ibmq_singapore as backend\n",
    "\n",
    "\n"
   ]
  },
  {
   "cell_type": "code",
   "execution_count": null,
   "metadata": {},
   "outputs": [],
   "source": [
    "# print out the count operations \n",
    "\n",
    "\n"
   ]
  },
  {
   "cell_type": "code",
   "execution_count": null,
   "metadata": {},
   "outputs": [],
   "source": [
    "# draw the circuit \n",
    "\n",
    "\n"
   ]
  },
  {
   "cell_type": "markdown",
   "metadata": {},
   "source": [
    "<div class=\"alert alert-success\">\n",
    "<b>First Challenge solution</b>"
   ]
  },
  {
   "cell_type": "code",
   "execution_count": 125,
   "metadata": {},
   "outputs": [],
   "source": [
    "my_random_circ = random_circuit(8, 10 , measure=True)"
   ]
  },
  {
   "cell_type": "code",
   "execution_count": 136,
   "metadata": {},
   "outputs": [],
   "source": [
    "# Using the default optimization level\n",
    "trans1 = transpile(my_random_circ, backend, optimization_level=1)\n",
    "\n",
    "print(trans1.count_ops())\n",
    "\n",
    "print('Depth:', trans1.depth())\n",
    "\n",
    "trans1.draw(output='mpl', idle_wires=False)\n"
   ]
  },
  {
   "cell_type": "code",
   "execution_count": 137,
   "metadata": {},
   "outputs": [],
   "source": [
    "trans2 = transpile(my_random_circ, backend, optimization_level=2)\n",
    "\n",
    "print(trans2.count_ops())\n",
    "\n",
    "print('Depth:', trans2.depth())\n",
    "\n",
    "trans2.draw(output='mpl', idle_wires=False)"
   ]
  },
  {
   "cell_type": "code",
   "execution_count": 138,
   "metadata": {
    "scrolled": true
   },
   "outputs": [],
   "source": [
    "trans = transpile(my_random_circ, backend, optimization_level=3)\n",
    "\n",
    "print(trans.count_ops())\n",
    "\n",
    "print('Depth:', trans.depth())\n",
    "\n",
    "trans.draw(output='mpl', idle_wires=False)"
   ]
  },
  {
   "cell_type": "markdown",
   "metadata": {},
   "source": [
    " ### If you transpile multiple times the same circuit you'll notice fluctuation in the count operations "
   ]
  },
  {
   "cell_type": "code",
   "execution_count": 139,
   "metadata": {},
   "outputs": [],
   "source": [
    "# Perform 10 transpilations of the same circuit using optimization_level 1 \n",
    "for i in range(10):  \n",
    "    trans1 = transpile(my_random_circ, backend, optimization_level=1)\n",
    "    print(trans1.count_ops())\n",
    "    print('Depth:', trans1.depth())"
   ]
  },
  {
   "cell_type": "code",
   "execution_count": 140,
   "metadata": {},
   "outputs": [],
   "source": [
    "# Perform 10 transpilations of the same circuit using optimization_level 2 \n",
    "for i in range(10):  \n",
    "    trans2 = transpile(my_random_circ, backend, optimization_level=2)\n",
    "    print(trans2.count_ops())\n",
    "    print('Depth:', trans2.depth())"
   ]
  },
  {
   "cell_type": "code",
   "execution_count": 141,
   "metadata": {},
   "outputs": [],
   "source": [
    "# Perform 10 transpilations of the same circuit using optimization_level 3 \n",
    "\n",
    "for i in range(10):  \n",
    "    trans3 = transpile(my_random_circ, backend, optimization_level=3)\n",
    "    print(trans3.count_ops())\n",
    "    print('Depth:', trans3.depth())"
   ]
  },
  {
   "cell_type": "markdown",
   "metadata": {},
   "source": [
    "<div class=\"alert alert-block alert-info\">\n",
    "<b>Note:</b>\n",
    "Here's a second challenge for you: Consider the circuit \"qc\" below  \n",
    " \n",
    "  - First transpile the circuit using optimization levels 1, 2 and 3\n",
    "  - Use assemble to create a Qobj of the 3 circuits. \n",
    "  - Run that list of circuit in one job using \"ibmq_singapore\" as backend\n",
    "  - Plot the counts results for each circuit   \n",
    " </div> \n",
    "</div>"
   ]
  },
  {
   "cell_type": "code",
   "execution_count": 81,
   "metadata": {},
   "outputs": [
    {
     "data": {
      "text/plain": [
       "<qiskit.circuit.instructionset.InstructionSet at 0x23d5d4e4cd0>"
      ]
     },
     "execution_count": 81,
     "metadata": {},
     "output_type": "execute_result"
    }
   ],
   "source": [
    "from qiskit import QuantumCircuit\n",
    "\n",
    "qc = QuantumCircuit(4,3)\n",
    "qc.x(3)\n",
    "qc.h(3)\n",
    "qc.h(range(3))\n",
    "qc.cx(range(3), 3)\n",
    "qc.h(range(3))\n",
    "qc.barrier(range(3))\n",
    "qc.measure(range(3), range(3))\n",
    "qc.draw(output='mpl')"
   ]
  },
  {
   "cell_type": "code",
   "execution_count": null,
   "metadata": {},
   "outputs": [],
   "source": [
    "# qiskit import \n",
    "from qiskit.compiler import assemble, transpile\n"
   ]
  },
  {
   "cell_type": "code",
   "execution_count": null,
   "metadata": {},
   "outputs": [],
   "source": [
    "# Set your backend to \"ibmq_singapore\" \n"
   ]
  },
  {
   "cell_type": "code",
   "execution_count": null,
   "metadata": {},
   "outputs": [],
   "source": [
    "# Transpile the \"qc\" circuit using the optimization levels 1, 2 and 3 \n"
   ]
  },
  {
   "cell_type": "code",
   "execution_count": null,
   "metadata": {},
   "outputs": [],
   "source": [
    "# print the operations count for each circuit transpiled and its depth as well \n"
   ]
  },
  {
   "cell_type": "code",
   "execution_count": 143,
   "metadata": {},
   "outputs": [],
   "source": [
    "# Assemble the 3 circuits transpiled into one Qobj. \n",
    "# assemble function for converting a list of circuits into a qobj (pass a list of the 3 circuits)\n",
    "# you must create a list containing the 3 circuits and pass the list to \"assemble\"\n",
    " \n"
   ]
  },
  {
   "cell_type": "code",
   "execution_count": null,
   "metadata": {},
   "outputs": [],
   "source": [
    "# run the Qobj in one job using your backend \n"
   ]
  },
  {
   "cell_type": "code",
   "execution_count": null,
   "metadata": {},
   "outputs": [],
   "source": [
    "# get the count results of the job \n"
   ]
  },
  {
   "cell_type": "code",
   "execution_count": null,
   "metadata": {},
   "outputs": [],
   "source": [
    "# from the count results get the count for each circuit \n"
   ]
  },
  {
   "cell_type": "code",
   "execution_count": null,
   "metadata": {},
   "outputs": [],
   "source": [
    "# plot the counts for each circuit in one plot_histogram \n"
   ]
  },
  {
   "cell_type": "markdown",
   "metadata": {},
   "source": [
    "<div class=\"alert alert-success\">\n",
    "<b>Second Challenge solution</b>"
   ]
  },
  {
   "cell_type": "code",
   "execution_count": 73,
   "metadata": {},
   "outputs": [
    {
     "name": "stdout",
     "output_type": "stream",
     "text": [
      "OrderedDict([('cx', 12), ('u2', 7), ('measure', 3), ('barrier', 1)])\n",
      "Depth: 12\n",
      "OrderedDict([('u2', 7), ('cx', 3), ('measure', 3), ('barrier', 1)])\n",
      "Depth: 6\n",
      "OrderedDict([('u2', 7), ('cx', 3), ('measure', 3), ('barrier', 1)])\n",
      "Depth: 6\n"
     ]
    }
   ],
   "source": [
    "backend = provider.backends.ibmq_cambridge\n",
    "trans1 = transpile(qc, backend,  optimization_level=1)\n",
    "print(trans1.count_ops())\n",
    "print('Depth:', trans1.depth())\n",
    "trans2 = transpile(qc, backend,  optimization_level=2)\n",
    "print(trans2.count_ops())\n",
    "print('Depth:', trans2.depth())\n",
    "trans3 = transpile(qc, backend,  optimization_level=3)\n",
    "print(trans3.count_ops())\n",
    "print('Depth:', trans3.depth())"
   ]
  },
  {
   "cell_type": "code",
   "execution_count": 74,
   "metadata": {},
   "outputs": [],
   "source": [
    "from qiskit.compiler import assemble\n",
    "\n",
    "# create a list of circuits \n",
    "circuit_list = []  # This will be what we send with our job\n",
    "\n",
    "# append each circuit to the list\n",
    "circuit_list.append(trans1)\n",
    "circuit_list.append(trans2)\n",
    "circuit_list.append(trans3)\n",
    "\n",
    "\n",
    "# create the Qobj from the circuit list  \n",
    "qobj = assemble(circuit_list, shots=1024)"
   ]
  },
  {
   "cell_type": "code",
   "execution_count": 75,
   "metadata": {},
   "outputs": [],
   "source": [
    "# run the job \n",
    "job = backend.run(qobj)"
   ]
  },
  {
   "cell_type": "code",
   "execution_count": 76,
   "metadata": {},
   "outputs": [],
   "source": [
    "#get the results for the 3 circuits \n",
    "results = job.result()"
   ]
  },
  {
   "cell_type": "code",
   "execution_count": 77,
   "metadata": {},
   "outputs": [],
   "source": [
    "# for each circuit get the counts \n",
    "trans1_counts = results.get_counts()[0]\n",
    "trans2_counts = results.get_counts()[1]\n",
    "trans3_counts = results.get_counts()[2]"
   ]
  },
  {
   "cell_type": "code",
   "execution_count": 78,
   "metadata": {},
   "outputs": [
    {
     "data": {
      "image/png": "[encoded data removed]",
      "text/plain": [
       "<Figure size 1224x792 with 1 Axes>"
      ]
     },
     "execution_count": 78,
     "metadata": {},
     "output_type": "execute_result"
    }
   ],
   "source": [
    "# plotting \n",
    "from qiskit.visualization import plot_histogram\n",
    "plot_histogram([trans1_counts, trans2_counts, trans3_counts],\n",
    "               figsize=(17,11),\n",
    "               legend=['optim_level=1', 'optim_level=2', 'optim_level=3'])"
   ]
  },
  {
   "cell_type": "markdown",
   "metadata": {},
   "source": [
    "# Pass Manager "
   ]
  },
  {
   "cell_type": "code",
   "execution_count": 89,
   "metadata": {
    "slideshow": {
     "slide_type": "fragment"
    }
   },
   "outputs": [],
   "source": [
    "from qiskit import Aer\n",
    "from qiskit.transpiler import PassManager\n",
    "from qiskit.transpiler.passes import BasicSwap\n",
    "from qiskit.compiler import transpile\n",
    "from qiskit.transpiler import CouplingMap\n",
    "\n",
    "coupling = [[0, 1], [1, 2], [2, 3], [3, 4], [4, 5], [5, 6]]\n",
    "\n",
    "\n",
    "simulator = Aer.get_backend('qasm_simulator')\n",
    "\n",
    "\n",
    "coupling_map = CouplingMap(couplinglist=coupling)\n",
    "\n",
    "\n",
    "pm = PassManager()\n",
    "\n",
    "pm.append([BasicSwap(coupling_map=coupling_map)])\n",
    "\n",
    "# transpiled_circuit = pm.run(tpl_circuit)\n",
    "tpl_circuit = pm.run(qc)\n",
    "\n",
    "tpl_circuit.draw(output='mpl')\n",
    "\n"
   ]
  },
  {
   "cell_type": "code",
   "execution_count": 90,
   "metadata": {},
   "outputs": [],
   "source": [
    "realdevice = provider.backends.ibmq_16_melbourne\n",
    "tpl_realdevice = transpile(tpl_circuit, backend = realdevice, optimization_level=2)\n",
    "tpl_realdevice.draw(output='mpl', idle_wires=False)"
   ]
  },
  {
   "cell_type": "markdown",
   "metadata": {},
   "source": [
    "<div class=\"alert alert-block alert-info\">\n",
    "<b>Note:</b>\n",
    "Here's a question for you: Consider the circuit tpl_realdevice \n",
    " \n",
    "  - How do you explain the difference in the number of CNOT gates between the circuit transpiled on the simulator and the circuit transpiled on the real backend 'ibmq_16_melbourne' \n",
    " </div> \n",
    "</div>"
   ]
  },
  {
   "cell_type": "code",
   "execution_count": 317,
   "metadata": {},
   "outputs": [
    {
     "name": "stdout",
     "output_type": "stream",
     "text": [
      "Help on class BasicSwap in module qiskit.transpiler.passes.routing.basic_swap:\n",
      "\n",
      "class BasicSwap(qiskit.transpiler.basepasses.TransformationPass)\n",
      " |  BasicSwap(*args, **kwargs)\n",
      " |  \n",
      " |  Map (with minimum effort) a DAGCircuit onto a `coupling_map` adding swap gates.\n",
      " |  \n",
      " |  The basic mapper is a minimum effort to insert swap gates to map the DAG onto\n",
      " |  a coupling map. When a cx is not in the coupling map possibilities, it inserts\n",
      " |  one or more swaps in front to make it compatible.\n",
      " |  \n",
      " |  Method resolution order:\n",
      " |      BasicSwap\n",
      " |      qiskit.transpiler.basepasses.TransformationPass\n",
      " |      qiskit.transpiler.basepasses.BasePass\n",
      " |      builtins.object\n",
      " |  \n",
      " |  Methods defined here:\n",
      " |  \n",
      " |  __init__(self, coupling_map)\n",
      " |      BasicSwap initializer.\n",
      " |      \n",
      " |      Args:\n",
      " |          coupling_map (CouplingMap): Directed graph represented a coupling map.\n",
      " |  \n",
      " |  run(self, dag)\n",
      " |      Run the BasicSwap pass on `dag`.\n",
      " |      \n",
      " |      Args:\n",
      " |          dag (DAGCircuit): DAG to map.\n",
      " |      \n",
      " |      Returns:\n",
      " |          DAGCircuit: A mapped DAG.\n",
      " |      \n",
      " |      Raises:\n",
      " |          TranspilerError: if the coupling map or the layout are not\n",
      " |          compatible with the DAG.\n",
      " |  \n",
      " |  ----------------------------------------------------------------------\n",
      " |  Methods inherited from qiskit.transpiler.basepasses.BasePass:\n",
      " |  \n",
      " |  __eq__(self, other)\n",
      " |      Return self==value.\n",
      " |  \n",
      " |  __hash__(self)\n",
      " |      Return hash(self).\n",
      " |  \n",
      " |  name(self)\n",
      " |      Return the name of the pass.\n",
      " |  \n",
      " |  ----------------------------------------------------------------------\n",
      " |  Readonly properties inherited from qiskit.transpiler.basepasses.BasePass:\n",
      " |  \n",
      " |  is_analysis_pass\n",
      " |      Check if the pass is an analysis pass.\n",
      " |      \n",
      " |      If the pass is an AnalysisPass, that means that the pass can analyze the DAG and write\n",
      " |      the results of that analysis in the property set. Modifications on the DAG are not allowed\n",
      " |      by this kind of pass.\n",
      " |  \n",
      " |  is_transformation_pass\n",
      " |      Check if the pass is a transformation pass.\n",
      " |      \n",
      " |      If the pass is a TransformationPass, that means that the pass can manipulate the DAG,\n",
      " |      but cannot modify the property set (but it can be read).\n",
      " |  \n",
      " |  ----------------------------------------------------------------------\n",
      " |  Data descriptors inherited from qiskit.transpiler.basepasses.BasePass:\n",
      " |  \n",
      " |  __dict__\n",
      " |      dictionary for instance variables (if defined)\n",
      " |  \n",
      " |  __weakref__\n",
      " |      list of weak references to the object (if defined)\n",
      "\n"
     ]
    }
   ],
   "source": [
    "help(BasicSwap)"
   ]
  },
  {
   "cell_type": "markdown",
   "metadata": {},
   "source": [
    "### A SWAP gate is not a native gate on the IBM Q devices, and must be decomposed into three CNOT gates:\n",
    "\n",
    "As a product of three CNOT gates, SWAP gates are expensive operations to perform on a noisy quantum devices. However, such operations are usually necessary for embedding a circuit into the limited entangling gate connectivities of actual devices. Thus, minimizing the number of SWAP gates in a circuit is a primary goal in the transpilation process."
   ]
  },
  {
   "cell_type": "code",
   "execution_count": 325,
   "metadata": {},
   "outputs": [
    {
     "data": {
      "image/png": "[encoded data removed]",
      "text/plain": [
       "<Figure size 358.792x144.48 with 1 Axes>"
      ]
     },
     "execution_count": 325,
     "metadata": {},
     "output_type": "execute_result"
    }
   ],
   "source": [
    "swap_circ = QuantumCircuit(2)\n",
    "swap_circ.swap(0, 1)\n",
    "swap_circ.decompose().draw(output='mpl')"
   ]
  },
  {
   "cell_type": "code",
   "execution_count": null,
   "metadata": {},
   "outputs": [],
   "source": []
  }
 ],
 "metadata": {
  "kernelspec": {
   "display_name": "Python 3",
   "language": "python",
   "name": "python3"
  },
  "language_info": {
   "codemirror_mode": {
    "name": "ipython",
    "version": 3
   },
   "file_extension": ".py",
   "mimetype": "text/x-python",
   "name": "python",
   "nbconvert_exporter": "python",
   "pygments_lexer": "ipython3",
   "version": "3.8.2"
  }
 },
 "nbformat": 4,
 "nbformat_minor": 2
}
